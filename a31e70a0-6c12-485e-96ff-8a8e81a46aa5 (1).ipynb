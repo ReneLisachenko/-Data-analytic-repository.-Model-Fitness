{
 "cells": [
  {
   "cell_type": "markdown",
   "metadata": {},
   "source": [
    "# Forecasts & Predictions\n"
   ]
  },
  {
   "cell_type": "markdown",
   "metadata": {},
   "source": [
    "## Project description\n",
    "    \n",
    "    The gym chain Model Fitness is developing a customer interaction strategy based on analytical data.\n",
    "    One of the most common problems gyms and other services face is customer churn. How do we know if a customer is no longer with you? We can calculate churn based on people who get rid of their accounts or don't renew their contracts. However, sometimes it's not obvious that a client has left: they may walk out on tiptoes.\n",
    "    Churn indicators vary from field to field. If a user buys from an online store rarely but regularly, we can't say they're a runaway. But if for two weeks they haven't opened a channel that's updated daily, that's a reason to worry: our follower might have gotten bored and left us.\n",
    "    For a gym, it makes sense to say a customer has left if they don't come for a month. Of course, it's possible they're in Cancun and will resume their visits when they return, but's that's not a typical case. Usually, if a customer joins, comes a few times, then disappears, they're unlikely to come back.\n",
    "    In order to fight churn, Model Fitness has digitized a number of its customer profiles. Your task is to analyze them and come up with a customer retention strategy.\n",
    "\n",
    "\n",
    "    File path:  /datasets/gym_churn_us.csv\n",
    "\n",
    "### Project plan\n",
    "1. [Prepare the Data](#introduction)\n",
    "2. [Analyze Data](#introduction1)\n",
    "3. [Forecasts & Predictions](#introduction2)\n",
    "4. [General conclusion](#introduction3)"
   ]
  },
  {
   "cell_type": "code",
   "execution_count": 1,
   "metadata": {},
   "outputs": [],
   "source": [
    "import pandas as pd\n",
    "import numpy as np\n",
    "import matplotlib.pyplot as plt\n",
    "from scipy import stats\n",
    "import seaborn as sns"
   ]
  },
  {
   "cell_type": "code",
   "execution_count": 2,
   "metadata": {},
   "outputs": [],
   "source": [
    "data = pd.read_csv('https://code.s3.yandex.net/datasets/gym_churn_us.csv')"
   ]
  },
  {
   "cell_type": "code",
   "execution_count": 3,
   "metadata": {},
   "outputs": [
    {
     "data": {
      "text/html": [
       "<div>\n",
       "<style scoped>\n",
       "    .dataframe tbody tr th:only-of-type {\n",
       "        vertical-align: middle;\n",
       "    }\n",
       "\n",
       "    .dataframe tbody tr th {\n",
       "        vertical-align: top;\n",
       "    }\n",
       "\n",
       "    .dataframe thead th {\n",
       "        text-align: right;\n",
       "    }\n",
       "</style>\n",
       "<table border=\"1\" class=\"dataframe\">\n",
       "  <thead>\n",
       "    <tr style=\"text-align: right;\">\n",
       "      <th></th>\n",
       "      <th>gender</th>\n",
       "      <th>Near_Location</th>\n",
       "      <th>Partner</th>\n",
       "      <th>Promo_friends</th>\n",
       "      <th>Phone</th>\n",
       "      <th>Contract_period</th>\n",
       "      <th>Group_visits</th>\n",
       "      <th>Age</th>\n",
       "      <th>Avg_additional_charges_total</th>\n",
       "      <th>Month_to_end_contract</th>\n",
       "      <th>Lifetime</th>\n",
       "      <th>Avg_class_frequency_total</th>\n",
       "      <th>Avg_class_frequency_current_month</th>\n",
       "      <th>Churn</th>\n",
       "    </tr>\n",
       "  </thead>\n",
       "  <tbody>\n",
       "    <tr>\n",
       "      <td>0</td>\n",
       "      <td>1</td>\n",
       "      <td>1</td>\n",
       "      <td>1</td>\n",
       "      <td>1</td>\n",
       "      <td>0</td>\n",
       "      <td>6</td>\n",
       "      <td>1</td>\n",
       "      <td>29</td>\n",
       "      <td>14.227470</td>\n",
       "      <td>5.0</td>\n",
       "      <td>3</td>\n",
       "      <td>0.020398</td>\n",
       "      <td>0.000000</td>\n",
       "      <td>0</td>\n",
       "    </tr>\n",
       "    <tr>\n",
       "      <td>1</td>\n",
       "      <td>0</td>\n",
       "      <td>1</td>\n",
       "      <td>0</td>\n",
       "      <td>0</td>\n",
       "      <td>1</td>\n",
       "      <td>12</td>\n",
       "      <td>1</td>\n",
       "      <td>31</td>\n",
       "      <td>113.202938</td>\n",
       "      <td>12.0</td>\n",
       "      <td>7</td>\n",
       "      <td>1.922936</td>\n",
       "      <td>1.910244</td>\n",
       "      <td>0</td>\n",
       "    </tr>\n",
       "    <tr>\n",
       "      <td>2</td>\n",
       "      <td>0</td>\n",
       "      <td>1</td>\n",
       "      <td>1</td>\n",
       "      <td>0</td>\n",
       "      <td>1</td>\n",
       "      <td>1</td>\n",
       "      <td>0</td>\n",
       "      <td>28</td>\n",
       "      <td>129.448479</td>\n",
       "      <td>1.0</td>\n",
       "      <td>2</td>\n",
       "      <td>1.859098</td>\n",
       "      <td>1.736502</td>\n",
       "      <td>0</td>\n",
       "    </tr>\n",
       "    <tr>\n",
       "      <td>3</td>\n",
       "      <td>0</td>\n",
       "      <td>1</td>\n",
       "      <td>1</td>\n",
       "      <td>1</td>\n",
       "      <td>1</td>\n",
       "      <td>12</td>\n",
       "      <td>1</td>\n",
       "      <td>33</td>\n",
       "      <td>62.669863</td>\n",
       "      <td>12.0</td>\n",
       "      <td>2</td>\n",
       "      <td>3.205633</td>\n",
       "      <td>3.357215</td>\n",
       "      <td>0</td>\n",
       "    </tr>\n",
       "    <tr>\n",
       "      <td>4</td>\n",
       "      <td>1</td>\n",
       "      <td>1</td>\n",
       "      <td>1</td>\n",
       "      <td>1</td>\n",
       "      <td>1</td>\n",
       "      <td>1</td>\n",
       "      <td>0</td>\n",
       "      <td>26</td>\n",
       "      <td>198.362265</td>\n",
       "      <td>1.0</td>\n",
       "      <td>3</td>\n",
       "      <td>1.113884</td>\n",
       "      <td>1.120078</td>\n",
       "      <td>0</td>\n",
       "    </tr>\n",
       "  </tbody>\n",
       "</table>\n",
       "</div>"
      ],
      "text/plain": [
       "   gender  Near_Location  Partner  Promo_friends  Phone  Contract_period  \\\n",
       "0       1              1        1              1      0                6   \n",
       "1       0              1        0              0      1               12   \n",
       "2       0              1        1              0      1                1   \n",
       "3       0              1        1              1      1               12   \n",
       "4       1              1        1              1      1                1   \n",
       "\n",
       "   Group_visits  Age  Avg_additional_charges_total  Month_to_end_contract  \\\n",
       "0             1   29                     14.227470                    5.0   \n",
       "1             1   31                    113.202938                   12.0   \n",
       "2             0   28                    129.448479                    1.0   \n",
       "3             1   33                     62.669863                   12.0   \n",
       "4             0   26                    198.362265                    1.0   \n",
       "\n",
       "   Lifetime  Avg_class_frequency_total  Avg_class_frequency_current_month  \\\n",
       "0         3                   0.020398                           0.000000   \n",
       "1         7                   1.922936                           1.910244   \n",
       "2         2                   1.859098                           1.736502   \n",
       "3         2                   3.205633                           3.357215   \n",
       "4         3                   1.113884                           1.120078   \n",
       "\n",
       "   Churn  \n",
       "0      0  \n",
       "1      0  \n",
       "2      0  \n",
       "3      0  \n",
       "4      0  "
      ]
     },
     "execution_count": 3,
     "metadata": {},
     "output_type": "execute_result"
    }
   ],
   "source": [
    "data.head()"
   ]
  },
  {
   "cell_type": "markdown",
   "metadata": {},
   "source": [
    "## Prepare the Data <a name=\"introduction\"></a>"
   ]
  },
  {
   "cell_type": "code",
   "execution_count": 4,
   "metadata": {},
   "outputs": [
    {
     "data": {
      "text/plain": [
       "gender                               0\n",
       "Near_Location                        0\n",
       "Partner                              0\n",
       "Promo_friends                        0\n",
       "Phone                                0\n",
       "Contract_period                      0\n",
       "Group_visits                         0\n",
       "Age                                  0\n",
       "Avg_additional_charges_total         0\n",
       "Month_to_end_contract                0\n",
       "Lifetime                             0\n",
       "Avg_class_frequency_total            0\n",
       "Avg_class_frequency_current_month    0\n",
       "Churn                                0\n",
       "dtype: int64"
      ]
     },
     "execution_count": 4,
     "metadata": {},
     "output_type": "execute_result"
    }
   ],
   "source": [
    "data.isnull().sum()"
   ]
  },
  {
   "cell_type": "markdown",
   "metadata": {},
   "source": [
    "There are not null values in the data."
   ]
  },
  {
   "cell_type": "code",
   "execution_count": 5,
   "metadata": {},
   "outputs": [
    {
     "name": "stdout",
     "output_type": "stream",
     "text": [
      "0.0\n"
     ]
    }
   ],
   "source": [
    "print (data.duplicated().sum()/data.shape[0])\n"
   ]
  },
  {
   "cell_type": "markdown",
   "metadata": {},
   "source": [
    "There are not duplictes in the data."
   ]
  },
  {
   "cell_type": "code",
   "execution_count": 6,
   "metadata": {},
   "outputs": [
    {
     "data": {
      "text/html": [
       "<div>\n",
       "<style scoped>\n",
       "    .dataframe tbody tr th:only-of-type {\n",
       "        vertical-align: middle;\n",
       "    }\n",
       "\n",
       "    .dataframe tbody tr th {\n",
       "        vertical-align: top;\n",
       "    }\n",
       "\n",
       "    .dataframe thead th {\n",
       "        text-align: right;\n",
       "    }\n",
       "</style>\n",
       "<table border=\"1\" class=\"dataframe\">\n",
       "  <thead>\n",
       "    <tr style=\"text-align: right;\">\n",
       "      <th></th>\n",
       "      <th>gender</th>\n",
       "      <th>Near_Location</th>\n",
       "      <th>Partner</th>\n",
       "      <th>Promo_friends</th>\n",
       "      <th>Phone</th>\n",
       "      <th>Contract_period</th>\n",
       "      <th>Group_visits</th>\n",
       "      <th>Age</th>\n",
       "      <th>Avg_additional_charges_total</th>\n",
       "      <th>Month_to_end_contract</th>\n",
       "      <th>Lifetime</th>\n",
       "      <th>Avg_class_frequency_total</th>\n",
       "      <th>Avg_class_frequency_current_month</th>\n",
       "      <th>Churn</th>\n",
       "    </tr>\n",
       "  </thead>\n",
       "  <tbody>\n",
       "    <tr>\n",
       "      <td>count</td>\n",
       "      <td>4000.000000</td>\n",
       "      <td>4000.000000</td>\n",
       "      <td>4000.000000</td>\n",
       "      <td>4000.000000</td>\n",
       "      <td>4000.000000</td>\n",
       "      <td>4000.000000</td>\n",
       "      <td>4000.000000</td>\n",
       "      <td>4000.000000</td>\n",
       "      <td>4000.000000</td>\n",
       "      <td>4000.000000</td>\n",
       "      <td>4000.000000</td>\n",
       "      <td>4000.000000</td>\n",
       "      <td>4000.000000</td>\n",
       "      <td>4000.000000</td>\n",
       "    </tr>\n",
       "    <tr>\n",
       "      <td>mean</td>\n",
       "      <td>0.510250</td>\n",
       "      <td>0.845250</td>\n",
       "      <td>0.486750</td>\n",
       "      <td>0.308500</td>\n",
       "      <td>0.903500</td>\n",
       "      <td>4.681250</td>\n",
       "      <td>0.412250</td>\n",
       "      <td>29.184250</td>\n",
       "      <td>146.943728</td>\n",
       "      <td>4.322750</td>\n",
       "      <td>3.724750</td>\n",
       "      <td>1.879020</td>\n",
       "      <td>1.767052</td>\n",
       "      <td>0.265250</td>\n",
       "    </tr>\n",
       "    <tr>\n",
       "      <td>std</td>\n",
       "      <td>0.499957</td>\n",
       "      <td>0.361711</td>\n",
       "      <td>0.499887</td>\n",
       "      <td>0.461932</td>\n",
       "      <td>0.295313</td>\n",
       "      <td>4.549706</td>\n",
       "      <td>0.492301</td>\n",
       "      <td>3.258367</td>\n",
       "      <td>96.355602</td>\n",
       "      <td>4.191297</td>\n",
       "      <td>3.749267</td>\n",
       "      <td>0.972245</td>\n",
       "      <td>1.052906</td>\n",
       "      <td>0.441521</td>\n",
       "    </tr>\n",
       "    <tr>\n",
       "      <td>min</td>\n",
       "      <td>0.000000</td>\n",
       "      <td>0.000000</td>\n",
       "      <td>0.000000</td>\n",
       "      <td>0.000000</td>\n",
       "      <td>0.000000</td>\n",
       "      <td>1.000000</td>\n",
       "      <td>0.000000</td>\n",
       "      <td>18.000000</td>\n",
       "      <td>0.148205</td>\n",
       "      <td>1.000000</td>\n",
       "      <td>0.000000</td>\n",
       "      <td>0.000000</td>\n",
       "      <td>0.000000</td>\n",
       "      <td>0.000000</td>\n",
       "    </tr>\n",
       "    <tr>\n",
       "      <td>25%</td>\n",
       "      <td>0.000000</td>\n",
       "      <td>1.000000</td>\n",
       "      <td>0.000000</td>\n",
       "      <td>0.000000</td>\n",
       "      <td>1.000000</td>\n",
       "      <td>1.000000</td>\n",
       "      <td>0.000000</td>\n",
       "      <td>27.000000</td>\n",
       "      <td>68.868830</td>\n",
       "      <td>1.000000</td>\n",
       "      <td>1.000000</td>\n",
       "      <td>1.180875</td>\n",
       "      <td>0.963003</td>\n",
       "      <td>0.000000</td>\n",
       "    </tr>\n",
       "    <tr>\n",
       "      <td>50%</td>\n",
       "      <td>1.000000</td>\n",
       "      <td>1.000000</td>\n",
       "      <td>0.000000</td>\n",
       "      <td>0.000000</td>\n",
       "      <td>1.000000</td>\n",
       "      <td>1.000000</td>\n",
       "      <td>0.000000</td>\n",
       "      <td>29.000000</td>\n",
       "      <td>136.220159</td>\n",
       "      <td>1.000000</td>\n",
       "      <td>3.000000</td>\n",
       "      <td>1.832768</td>\n",
       "      <td>1.719574</td>\n",
       "      <td>0.000000</td>\n",
       "    </tr>\n",
       "    <tr>\n",
       "      <td>75%</td>\n",
       "      <td>1.000000</td>\n",
       "      <td>1.000000</td>\n",
       "      <td>1.000000</td>\n",
       "      <td>1.000000</td>\n",
       "      <td>1.000000</td>\n",
       "      <td>6.000000</td>\n",
       "      <td>1.000000</td>\n",
       "      <td>31.000000</td>\n",
       "      <td>210.949625</td>\n",
       "      <td>6.000000</td>\n",
       "      <td>5.000000</td>\n",
       "      <td>2.536078</td>\n",
       "      <td>2.510336</td>\n",
       "      <td>1.000000</td>\n",
       "    </tr>\n",
       "    <tr>\n",
       "      <td>max</td>\n",
       "      <td>1.000000</td>\n",
       "      <td>1.000000</td>\n",
       "      <td>1.000000</td>\n",
       "      <td>1.000000</td>\n",
       "      <td>1.000000</td>\n",
       "      <td>12.000000</td>\n",
       "      <td>1.000000</td>\n",
       "      <td>41.000000</td>\n",
       "      <td>552.590740</td>\n",
       "      <td>12.000000</td>\n",
       "      <td>31.000000</td>\n",
       "      <td>6.023668</td>\n",
       "      <td>6.146783</td>\n",
       "      <td>1.000000</td>\n",
       "    </tr>\n",
       "  </tbody>\n",
       "</table>\n",
       "</div>"
      ],
      "text/plain": [
       "            gender  Near_Location      Partner  Promo_friends        Phone  \\\n",
       "count  4000.000000    4000.000000  4000.000000    4000.000000  4000.000000   \n",
       "mean      0.510250       0.845250     0.486750       0.308500     0.903500   \n",
       "std       0.499957       0.361711     0.499887       0.461932     0.295313   \n",
       "min       0.000000       0.000000     0.000000       0.000000     0.000000   \n",
       "25%       0.000000       1.000000     0.000000       0.000000     1.000000   \n",
       "50%       1.000000       1.000000     0.000000       0.000000     1.000000   \n",
       "75%       1.000000       1.000000     1.000000       1.000000     1.000000   \n",
       "max       1.000000       1.000000     1.000000       1.000000     1.000000   \n",
       "\n",
       "       Contract_period  Group_visits          Age  \\\n",
       "count      4000.000000   4000.000000  4000.000000   \n",
       "mean          4.681250      0.412250    29.184250   \n",
       "std           4.549706      0.492301     3.258367   \n",
       "min           1.000000      0.000000    18.000000   \n",
       "25%           1.000000      0.000000    27.000000   \n",
       "50%           1.000000      0.000000    29.000000   \n",
       "75%           6.000000      1.000000    31.000000   \n",
       "max          12.000000      1.000000    41.000000   \n",
       "\n",
       "       Avg_additional_charges_total  Month_to_end_contract     Lifetime  \\\n",
       "count                   4000.000000            4000.000000  4000.000000   \n",
       "mean                     146.943728               4.322750     3.724750   \n",
       "std                       96.355602               4.191297     3.749267   \n",
       "min                        0.148205               1.000000     0.000000   \n",
       "25%                       68.868830               1.000000     1.000000   \n",
       "50%                      136.220159               1.000000     3.000000   \n",
       "75%                      210.949625               6.000000     5.000000   \n",
       "max                      552.590740              12.000000    31.000000   \n",
       "\n",
       "       Avg_class_frequency_total  Avg_class_frequency_current_month  \\\n",
       "count                4000.000000                        4000.000000   \n",
       "mean                    1.879020                           1.767052   \n",
       "std                     0.972245                           1.052906   \n",
       "min                     0.000000                           0.000000   \n",
       "25%                     1.180875                           0.963003   \n",
       "50%                     1.832768                           1.719574   \n",
       "75%                     2.536078                           2.510336   \n",
       "max                     6.023668                           6.146783   \n",
       "\n",
       "             Churn  \n",
       "count  4000.000000  \n",
       "mean      0.265250  \n",
       "std       0.441521  \n",
       "min       0.000000  \n",
       "25%       0.000000  \n",
       "50%       0.000000  \n",
       "75%       1.000000  \n",
       "max       1.000000  "
      ]
     },
     "execution_count": 6,
     "metadata": {},
     "output_type": "execute_result"
    }
   ],
   "source": [
    "data.describe()"
   ]
  },
  {
   "cell_type": "markdown",
   "metadata": {},
   "source": [
    "In our data we have:\n",
    "- the same number of people of both genders;\n",
    "- the mean age of people is 29;\n",
    "- the mean contract period about 4.5 month;\n",
    "- the mean life time of users about 3.7 month."
   ]
  },
  {
   "cell_type": "markdown",
   "metadata": {},
   "source": [
    "### Conlusion:\n",
    "\n",
    "- There are not null values in the data.\n",
    "- There are not duplictes in the data.\n",
    "  \n",
    "  In our data we have:\n",
    "- the same number of people of both genders;\n",
    "- the mean age of people is 29;\n",
    "- the mean contract period about 4.5 month;\n",
    "- the mean life time of users about 3.7 month."
   ]
  },
  {
   "cell_type": "markdown",
   "metadata": {},
   "source": [
    "## Analyze Data <a name=\"introduction1\"></a>"
   ]
  },
  {
   "cell_type": "code",
   "execution_count": 7,
   "metadata": {},
   "outputs": [
    {
     "data": {
      "text/html": [
       "<div>\n",
       "<style scoped>\n",
       "    .dataframe tbody tr th:only-of-type {\n",
       "        vertical-align: middle;\n",
       "    }\n",
       "\n",
       "    .dataframe tbody tr th {\n",
       "        vertical-align: top;\n",
       "    }\n",
       "\n",
       "    .dataframe thead th {\n",
       "        text-align: right;\n",
       "    }\n",
       "</style>\n",
       "<table border=\"1\" class=\"dataframe\">\n",
       "  <thead>\n",
       "    <tr style=\"text-align: right;\">\n",
       "      <th></th>\n",
       "      <th>gender</th>\n",
       "      <th>Near_Location</th>\n",
       "      <th>Partner</th>\n",
       "      <th>Promo_friends</th>\n",
       "      <th>Phone</th>\n",
       "      <th>Contract_period</th>\n",
       "      <th>Group_visits</th>\n",
       "      <th>Age</th>\n",
       "      <th>Avg_additional_charges_total</th>\n",
       "      <th>Month_to_end_contract</th>\n",
       "      <th>Lifetime</th>\n",
       "      <th>Avg_class_frequency_total</th>\n",
       "      <th>Avg_class_frequency_current_month</th>\n",
       "    </tr>\n",
       "    <tr>\n",
       "      <th>Churn</th>\n",
       "      <th></th>\n",
       "      <th></th>\n",
       "      <th></th>\n",
       "      <th></th>\n",
       "      <th></th>\n",
       "      <th></th>\n",
       "      <th></th>\n",
       "      <th></th>\n",
       "      <th></th>\n",
       "      <th></th>\n",
       "      <th></th>\n",
       "      <th></th>\n",
       "      <th></th>\n",
       "    </tr>\n",
       "  </thead>\n",
       "  <tbody>\n",
       "    <tr>\n",
       "      <td>0</td>\n",
       "      <td>0.510037</td>\n",
       "      <td>0.873086</td>\n",
       "      <td>0.534195</td>\n",
       "      <td>0.353522</td>\n",
       "      <td>0.903709</td>\n",
       "      <td>5.747193</td>\n",
       "      <td>0.464103</td>\n",
       "      <td>29.976523</td>\n",
       "      <td>158.445715</td>\n",
       "      <td>5.283089</td>\n",
       "      <td>4.711807</td>\n",
       "      <td>2.024876</td>\n",
       "      <td>2.027882</td>\n",
       "    </tr>\n",
       "    <tr>\n",
       "      <td>1</td>\n",
       "      <td>0.510839</td>\n",
       "      <td>0.768143</td>\n",
       "      <td>0.355325</td>\n",
       "      <td>0.183789</td>\n",
       "      <td>0.902922</td>\n",
       "      <td>1.728558</td>\n",
       "      <td>0.268615</td>\n",
       "      <td>26.989632</td>\n",
       "      <td>115.082899</td>\n",
       "      <td>1.662582</td>\n",
       "      <td>0.990575</td>\n",
       "      <td>1.474995</td>\n",
       "      <td>1.044546</td>\n",
       "    </tr>\n",
       "  </tbody>\n",
       "</table>\n",
       "</div>"
      ],
      "text/plain": [
       "         gender  Near_Location   Partner  Promo_friends     Phone  \\\n",
       "Churn                                                               \n",
       "0      0.510037       0.873086  0.534195       0.353522  0.903709   \n",
       "1      0.510839       0.768143  0.355325       0.183789  0.902922   \n",
       "\n",
       "       Contract_period  Group_visits        Age  Avg_additional_charges_total  \\\n",
       "Churn                                                                           \n",
       "0             5.747193      0.464103  29.976523                    158.445715   \n",
       "1             1.728558      0.268615  26.989632                    115.082899   \n",
       "\n",
       "       Month_to_end_contract  Lifetime  Avg_class_frequency_total  \\\n",
       "Churn                                                               \n",
       "0                   5.283089  4.711807                   2.024876   \n",
       "1                   1.662582  0.990575                   1.474995   \n",
       "\n",
       "       Avg_class_frequency_current_month  \n",
       "Churn                                     \n",
       "0                               2.027882  \n",
       "1                               1.044546  "
      ]
     },
     "execution_count": 7,
     "metadata": {},
     "output_type": "execute_result"
    }
   ],
   "source": [
    "data.groupby(['Churn']).mean()"
   ]
  },
  {
   "cell_type": "markdown",
   "metadata": {},
   "source": [
    "People who don't have churn: \n",
    "- are twice as likely to participate in group classes;\n",
    "- more often spent money on other gym services;\n",
    "- have more monthes remaining until the contract expires (it shows people's confidence in future visits to the gym);\n",
    "- have more visits per week over the preceding month."
   ]
  },
  {
   "cell_type": "code",
   "execution_count": 8,
   "metadata": {},
   "outputs": [
    {
     "data": {
      "image/png": "[encoded data removed]",
      "text/plain": [
       "<Figure size 432x288 with 1 Axes>"
      ]
     },
     "metadata": {
      "needs_background": "light"
     },
     "output_type": "display_data"
    }
   ],
   "source": [
    "sns.distplot(data[data['Churn'] == 0]['gender'],bins = 25);\n",
    "plt.title('Gender of people who not churn')\n",
    "plt.show()"
   ]
  },
  {
   "cell_type": "code",
   "execution_count": 9,
   "metadata": {},
   "outputs": [
    {
     "data": {
      "image/png": "[encoded data removed]",
      "text/plain": [
       "<Figure size 432x288 with 1 Axes>"
      ]
     },
     "metadata": {
      "needs_background": "light"
     },
     "output_type": "display_data"
    }
   ],
   "source": [
    "sns.distplot(data[data['Churn'] == 1]['gender'],bins = 25);\n",
    "plt.title('Gender of people who churn')\n",
    "plt.show()"
   ]
  },
  {
   "cell_type": "markdown",
   "metadata": {},
   "source": [
    "There is no difference in the gender division of people"
   ]
  },
  {
   "cell_type": "code",
   "execution_count": 10,
   "metadata": {},
   "outputs": [
    {
     "data": {
      "image/png": "[encoded data removed]",
      "text/plain": [
       "<Figure size 432x288 with 1 Axes>"
      ]
     },
     "metadata": {
      "needs_background": "light"
     },
     "output_type": "display_data"
    }
   ],
   "source": [
    "sns.distplot(data[data['Churn'] == 0]['Partner'],bins = 25);\n",
    "plt.title('Using of partner by people who not churn')\n",
    "plt.show()"
   ]
  },
  {
   "cell_type": "code",
   "execution_count": 11,
   "metadata": {},
   "outputs": [
    {
     "data": {
      "image/png": "[encoded data removed]",
      "text/plain": [
       "<Figure size 432x288 with 1 Axes>"
      ]
     },
     "metadata": {
      "needs_background": "light"
     },
     "output_type": "display_data"
    }
   ],
   "source": [
    "sns.distplot(data[data['Churn'] == 1]['Partner'],bins = 25);\n",
    "plt.title('Using of partner by people who churn')\n",
    "plt.show()"
   ]
  },
  {
   "cell_type": "markdown",
   "metadata": {},
   "source": [
    "People from the churn were less likely to use the partner"
   ]
  },
  {
   "cell_type": "code",
   "execution_count": 12,
   "metadata": {},
   "outputs": [
    {
     "data": {
      "image/png": "[encoded data removed]",
      "text/plain": [
       "<Figure size 432x288 with 1 Axes>"
      ]
     },
     "metadata": {
      "needs_background": "light"
     },
     "output_type": "display_data"
    }
   ],
   "source": [
    "sns.distplot(data[data['Churn'] == 0]['Promo_friends'],bins = 25);\n",
    "plt.title('Using of promo friends by people who not churn')\n",
    "plt.show()"
   ]
  },
  {
   "cell_type": "code",
   "execution_count": 13,
   "metadata": {},
   "outputs": [
    {
     "data": {
      "image/png": "[encoded data removed]",
      "text/plain": [
       "<Figure size 432x288 with 1 Axes>"
      ]
     },
     "metadata": {
      "needs_background": "light"
     },
     "output_type": "display_data"
    }
   ],
   "source": [
    "sns.distplot(data[data['Churn'] == 1]['Promo_friends'],bins = 25);\n",
    "plt.title('Using of promo friends by people who churn')\n",
    "plt.show()"
   ]
  },
  {
   "cell_type": "markdown",
   "metadata": {},
   "source": [
    "People from the churn were more likely to use the promo friends."
   ]
  },
  {
   "cell_type": "code",
   "execution_count": 14,
   "metadata": {},
   "outputs": [
    {
     "data": {
      "image/png": "[encoded data removed]",
      "text/plain": [
       "<Figure size 432x288 with 1 Axes>"
      ]
     },
     "metadata": {
      "needs_background": "light"
     },
     "output_type": "display_data"
    }
   ],
   "source": [
    "sns.distplot(data[data['Churn'] == 0]['Contract_period'],bins = 25);\n",
    "plt.title('Contract_period of people who not churn')\n",
    "plt.show()"
   ]
  },
  {
   "cell_type": "code",
   "execution_count": 15,
   "metadata": {},
   "outputs": [
    {
     "data": {
      "image/png": "[encoded data removed]",
      "text/plain": [
       "<Figure size 432x288 with 1 Axes>"
      ]
     },
     "metadata": {
      "needs_background": "light"
     },
     "output_type": "display_data"
    }
   ],
   "source": [
    "sns.distplot(data[data['Churn'] == 1]['Contract_period'],bins = 25);\n",
    "plt.title('Contract_period of people who churn')\n",
    "plt.show()"
   ]
  },
  {
   "cell_type": "markdown",
   "metadata": {},
   "source": [
    "People who churn have a small contract period."
   ]
  },
  {
   "cell_type": "code",
   "execution_count": 16,
   "metadata": {},
   "outputs": [
    {
     "data": {
      "image/png": "[encoded data removed]",
      "text/plain": [
       "<Figure size 432x288 with 1 Axes>"
      ]
     },
     "metadata": {
      "needs_background": "light"
     },
     "output_type": "display_data"
    }
   ],
   "source": [
    "sns.distplot(data[data['Churn'] == 0]['Age'],bins = 25);\n",
    "plt.title('Age of people who not churn')\n",
    "plt.show()"
   ]
  },
  {
   "cell_type": "code",
   "execution_count": 17,
   "metadata": {},
   "outputs": [
    {
     "data": {
      "image/png": "[encoded data removed]",
      "text/plain": [
       "<Figure size 432x288 with 1 Axes>"
      ]
     },
     "metadata": {
      "needs_background": "light"
     },
     "output_type": "display_data"
    }
   ],
   "source": [
    "sns.distplot(data[data['Churn'] == 1]['Age'],bins = 25);\n",
    "plt.title('Age of people who churn')\n",
    "plt.show()"
   ]
  },
  {
   "cell_type": "markdown",
   "metadata": {},
   "source": [
    "People who churn on average yunger than People who not churn."
   ]
  },
  {
   "cell_type": "code",
   "execution_count": 18,
   "metadata": {},
   "outputs": [
    {
     "data": {
      "image/png": "[encoded data removed]",
      "text/plain": [
       "<Figure size 432x288 with 1 Axes>"
      ]
     },
     "metadata": {
      "needs_background": "light"
     },
     "output_type": "display_data"
    }
   ],
   "source": [
    "sns.distplot(data[data['Churn'] == 0]['Group_visits'],bins = 25);\n",
    "plt.title('Group visits of people who not churn')\n",
    "plt.show()"
   ]
  },
  {
   "cell_type": "code",
   "execution_count": 19,
   "metadata": {},
   "outputs": [
    {
     "data": {
      "image/png": "[encoded data removed]",
      "text/plain": [
       "<Figure size 432x288 with 1 Axes>"
      ]
     },
     "metadata": {
      "needs_background": "light"
     },
     "output_type": "display_data"
    }
   ],
   "source": [
    "sns.distplot(data[data['Churn'] == 1]['Group_visits'],bins = 25);\n",
    "plt.title('Group visits of people who churn')\n",
    "plt.show()"
   ]
  },
  {
   "cell_type": "markdown",
   "metadata": {},
   "source": [
    "People from the churn are less likely to attend group classes."
   ]
  },
  {
   "cell_type": "code",
   "execution_count": 20,
   "metadata": {},
   "outputs": [
    {
     "data": {
      "image/png": "[encoded data removed]",
      "text/plain": [
       "<Figure size 432x288 with 1 Axes>"
      ]
     },
     "metadata": {
      "needs_background": "light"
     },
     "output_type": "display_data"
    }
   ],
   "source": [
    "sns.distplot(data[data['Churn'] == 1]['Avg_additional_charges_total'],bins = 25);\n",
    "plt.title('Avg additional charges of people who churn')\n",
    "plt.show()"
   ]
  },
  {
   "cell_type": "code",
   "execution_count": 21,
   "metadata": {},
   "outputs": [
    {
     "data": {
      "image/png": "[encoded data removed]",
      "text/plain": [
       "<Figure size 432x288 with 1 Axes>"
      ]
     },
     "metadata": {
      "needs_background": "light"
     },
     "output_type": "display_data"
    }
   ],
   "source": [
    "sns.distplot(data[data['Churn'] == 0]['Avg_additional_charges_total'],bins = 25);\n",
    "plt.title('Avg additional charges of people who not churn')\n",
    "plt.show()"
   ]
  },
  {
   "cell_type": "markdown",
   "metadata": {},
   "source": [
    "People who don't have churn more often spent money on other gym services"
   ]
  },
  {
   "cell_type": "code",
   "execution_count": 22,
   "metadata": {},
   "outputs": [
    {
     "data": {
      "image/png": "[encoded data removed]",
      "text/plain": [
       "<Figure size 432x288 with 1 Axes>"
      ]
     },
     "metadata": {
      "needs_background": "light"
     },
     "output_type": "display_data"
    }
   ],
   "source": [
    "sns.distplot(data[data['Churn'] == 1]['Month_to_end_contract'],bins = 25);\n",
    "plt.title('Month to end contract for people who churn')\n",
    "plt.show()"
   ]
  },
  {
   "cell_type": "code",
   "execution_count": 23,
   "metadata": {},
   "outputs": [
    {
     "data": {
      "image/png": "[encoded data removed]",
      "text/plain": [
       "<Figure size 432x288 with 1 Axes>"
      ]
     },
     "metadata": {
      "needs_background": "light"
     },
     "output_type": "display_data"
    }
   ],
   "source": [
    "sns.distplot(data[data['Churn'] == 0]['Month_to_end_contract'],bins = 25);\n",
    "plt.title('Month to end contract for people who not churn')\n",
    "plt.show()"
   ]
  },
  {
   "cell_type": "markdown",
   "metadata": {},
   "source": [
    "People who don't have churn have more monthes remaining until the contract expires (it shows people's confidence in future visits to the gym);\n"
   ]
  },
  {
   "cell_type": "code",
   "execution_count": 24,
   "metadata": {},
   "outputs": [
    {
     "data": {
      "image/png": "[encoded data removed]",
      "text/plain": [
       "<Figure size 432x288 with 1 Axes>"
      ]
     },
     "metadata": {
      "needs_background": "light"
     },
     "output_type": "display_data"
    }
   ],
   "source": [
    "sns.distplot(data[data['Churn'] == 1]['Avg_class_frequency_current_month'],bins = 25);\n",
    "plt.title('Average frequency of visits per week of people who not churn')\n",
    "plt.show()"
   ]
  },
  {
   "cell_type": "code",
   "execution_count": 25,
   "metadata": {},
   "outputs": [
    {
     "data": {
      "image/png": "[encoded data removed]",
      "text/plain": [
       "<Figure size 432x288 with 1 Axes>"
      ]
     },
     "metadata": {
      "needs_background": "light"
     },
     "output_type": "display_data"
    }
   ],
   "source": [
    "sns.distplot(data[data['Churn'] == 0]['Avg_class_frequency_current_month'],bins = 25);\n",
    "plt.title('Average frequency of visits per week of people who not churn')\n",
    "plt.show()"
   ]
  },
  {
   "cell_type": "markdown",
   "metadata": {},
   "source": [
    "People who don't have churn have more visits per week over the preceding month."
   ]
  },
  {
   "cell_type": "code",
   "execution_count": 26,
   "metadata": {},
   "outputs": [
    {
     "data": {
      "image/png": "[encoded data removed]",
      "text/plain": [
       "<Figure size 432x288 with 2 Axes>"
      ]
     },
     "metadata": {
      "needs_background": "light"
     },
     "output_type": "display_data"
    }
   ],
   "source": [
    "corr_matrix = data.corr()\n",
    "\n",
    "sns.heatmap(corr_matrix, \n",
    "            square=True, linewidths=.5)\n",
    "plt.title('Correlation matrix of data features')\n",
    "plt.show()"
   ]
  },
  {
   "cell_type": "code",
   "execution_count": 27,
   "metadata": {},
   "outputs": [
    {
     "data": {
      "text/html": [
       "<div>\n",
       "<style scoped>\n",
       "    .dataframe tbody tr th:only-of-type {\n",
       "        vertical-align: middle;\n",
       "    }\n",
       "\n",
       "    .dataframe tbody tr th {\n",
       "        vertical-align: top;\n",
       "    }\n",
       "\n",
       "    .dataframe thead th {\n",
       "        text-align: right;\n",
       "    }\n",
       "</style>\n",
       "<table border=\"1\" class=\"dataframe\">\n",
       "  <thead>\n",
       "    <tr style=\"text-align: right;\">\n",
       "      <th></th>\n",
       "      <th>gender</th>\n",
       "      <th>Near_Location</th>\n",
       "      <th>Partner</th>\n",
       "      <th>Promo_friends</th>\n",
       "      <th>Phone</th>\n",
       "      <th>Contract_period</th>\n",
       "      <th>Group_visits</th>\n",
       "      <th>Age</th>\n",
       "      <th>Avg_additional_charges_total</th>\n",
       "      <th>Month_to_end_contract</th>\n",
       "      <th>Lifetime</th>\n",
       "      <th>Avg_class_frequency_total</th>\n",
       "      <th>Avg_class_frequency_current_month</th>\n",
       "      <th>Churn</th>\n",
       "    </tr>\n",
       "  </thead>\n",
       "  <tbody>\n",
       "    <tr>\n",
       "      <td>gender</td>\n",
       "      <td>1.000000</td>\n",
       "      <td>0.006699</td>\n",
       "      <td>-0.010463</td>\n",
       "      <td>-0.005033</td>\n",
       "      <td>-0.008542</td>\n",
       "      <td>0.000502</td>\n",
       "      <td>0.017879</td>\n",
       "      <td>0.013807</td>\n",
       "      <td>-0.009334</td>\n",
       "      <td>-0.001281</td>\n",
       "      <td>0.013579</td>\n",
       "      <td>0.014620</td>\n",
       "      <td>0.009156</td>\n",
       "      <td>0.000708</td>\n",
       "    </tr>\n",
       "    <tr>\n",
       "      <td>Near_Location</td>\n",
       "      <td>0.006699</td>\n",
       "      <td>1.000000</td>\n",
       "      <td>-0.005119</td>\n",
       "      <td>0.210964</td>\n",
       "      <td>-0.015763</td>\n",
       "      <td>0.150233</td>\n",
       "      <td>0.154728</td>\n",
       "      <td>0.058358</td>\n",
       "      <td>0.040761</td>\n",
       "      <td>0.143961</td>\n",
       "      <td>0.070921</td>\n",
       "      <td>0.043127</td>\n",
       "      <td>0.062664</td>\n",
       "      <td>-0.128098</td>\n",
       "    </tr>\n",
       "    <tr>\n",
       "      <td>Partner</td>\n",
       "      <td>-0.010463</td>\n",
       "      <td>-0.005119</td>\n",
       "      <td>1.000000</td>\n",
       "      <td>0.451960</td>\n",
       "      <td>0.009970</td>\n",
       "      <td>0.306166</td>\n",
       "      <td>0.022710</td>\n",
       "      <td>0.047480</td>\n",
       "      <td>0.022941</td>\n",
       "      <td>0.294632</td>\n",
       "      <td>0.061229</td>\n",
       "      <td>0.024938</td>\n",
       "      <td>0.045561</td>\n",
       "      <td>-0.157986</td>\n",
       "    </tr>\n",
       "    <tr>\n",
       "      <td>Promo_friends</td>\n",
       "      <td>-0.005033</td>\n",
       "      <td>0.210964</td>\n",
       "      <td>0.451960</td>\n",
       "      <td>1.000000</td>\n",
       "      <td>0.001982</td>\n",
       "      <td>0.244552</td>\n",
       "      <td>0.120170</td>\n",
       "      <td>0.050113</td>\n",
       "      <td>0.036898</td>\n",
       "      <td>0.239553</td>\n",
       "      <td>0.072721</td>\n",
       "      <td>0.028063</td>\n",
       "      <td>0.053768</td>\n",
       "      <td>-0.162233</td>\n",
       "    </tr>\n",
       "    <tr>\n",
       "      <td>Phone</td>\n",
       "      <td>-0.008542</td>\n",
       "      <td>-0.015763</td>\n",
       "      <td>0.009970</td>\n",
       "      <td>0.001982</td>\n",
       "      <td>1.000000</td>\n",
       "      <td>-0.006893</td>\n",
       "      <td>-0.010099</td>\n",
       "      <td>-0.011403</td>\n",
       "      <td>0.009279</td>\n",
       "      <td>-0.011196</td>\n",
       "      <td>-0.018801</td>\n",
       "      <td>0.008340</td>\n",
       "      <td>0.013375</td>\n",
       "      <td>-0.001177</td>\n",
       "    </tr>\n",
       "    <tr>\n",
       "      <td>Contract_period</td>\n",
       "      <td>0.000502</td>\n",
       "      <td>0.150233</td>\n",
       "      <td>0.306166</td>\n",
       "      <td>0.244552</td>\n",
       "      <td>-0.006893</td>\n",
       "      <td>1.000000</td>\n",
       "      <td>0.169991</td>\n",
       "      <td>0.138249</td>\n",
       "      <td>0.111445</td>\n",
       "      <td>0.973064</td>\n",
       "      <td>0.170725</td>\n",
       "      <td>0.096211</td>\n",
       "      <td>0.159407</td>\n",
       "      <td>-0.389984</td>\n",
       "    </tr>\n",
       "    <tr>\n",
       "      <td>Group_visits</td>\n",
       "      <td>0.017879</td>\n",
       "      <td>0.154728</td>\n",
       "      <td>0.022710</td>\n",
       "      <td>0.120170</td>\n",
       "      <td>-0.010099</td>\n",
       "      <td>0.169991</td>\n",
       "      <td>1.000000</td>\n",
       "      <td>0.080934</td>\n",
       "      <td>0.032079</td>\n",
       "      <td>0.163703</td>\n",
       "      <td>0.075853</td>\n",
       "      <td>0.056695</td>\n",
       "      <td>0.075923</td>\n",
       "      <td>-0.175325</td>\n",
       "    </tr>\n",
       "    <tr>\n",
       "      <td>Age</td>\n",
       "      <td>0.013807</td>\n",
       "      <td>0.058358</td>\n",
       "      <td>0.047480</td>\n",
       "      <td>0.050113</td>\n",
       "      <td>-0.011403</td>\n",
       "      <td>0.138249</td>\n",
       "      <td>0.080934</td>\n",
       "      <td>1.000000</td>\n",
       "      <td>0.080240</td>\n",
       "      <td>0.134511</td>\n",
       "      <td>0.164693</td>\n",
       "      <td>0.119953</td>\n",
       "      <td>0.183095</td>\n",
       "      <td>-0.404735</td>\n",
       "    </tr>\n",
       "    <tr>\n",
       "      <td>Avg_additional_charges_total</td>\n",
       "      <td>-0.009334</td>\n",
       "      <td>0.040761</td>\n",
       "      <td>0.022941</td>\n",
       "      <td>0.036898</td>\n",
       "      <td>0.009279</td>\n",
       "      <td>0.111445</td>\n",
       "      <td>0.032079</td>\n",
       "      <td>0.080240</td>\n",
       "      <td>1.000000</td>\n",
       "      <td>0.113958</td>\n",
       "      <td>0.079028</td>\n",
       "      <td>0.044426</td>\n",
       "      <td>0.079570</td>\n",
       "      <td>-0.198697</td>\n",
       "    </tr>\n",
       "    <tr>\n",
       "      <td>Month_to_end_contract</td>\n",
       "      <td>-0.001281</td>\n",
       "      <td>0.143961</td>\n",
       "      <td>0.294632</td>\n",
       "      <td>0.239553</td>\n",
       "      <td>-0.011196</td>\n",
       "      <td>0.973064</td>\n",
       "      <td>0.163703</td>\n",
       "      <td>0.134511</td>\n",
       "      <td>0.113958</td>\n",
       "      <td>1.000000</td>\n",
       "      <td>0.161078</td>\n",
       "      <td>0.085387</td>\n",
       "      <td>0.147605</td>\n",
       "      <td>-0.381393</td>\n",
       "    </tr>\n",
       "    <tr>\n",
       "      <td>Lifetime</td>\n",
       "      <td>0.013579</td>\n",
       "      <td>0.070921</td>\n",
       "      <td>0.061229</td>\n",
       "      <td>0.072721</td>\n",
       "      <td>-0.018801</td>\n",
       "      <td>0.170725</td>\n",
       "      <td>0.075853</td>\n",
       "      <td>0.164693</td>\n",
       "      <td>0.079028</td>\n",
       "      <td>0.161078</td>\n",
       "      <td>1.000000</td>\n",
       "      <td>0.112338</td>\n",
       "      <td>0.181975</td>\n",
       "      <td>-0.438220</td>\n",
       "    </tr>\n",
       "    <tr>\n",
       "      <td>Avg_class_frequency_total</td>\n",
       "      <td>0.014620</td>\n",
       "      <td>0.043127</td>\n",
       "      <td>0.024938</td>\n",
       "      <td>0.028063</td>\n",
       "      <td>0.008340</td>\n",
       "      <td>0.096211</td>\n",
       "      <td>0.056695</td>\n",
       "      <td>0.119953</td>\n",
       "      <td>0.044426</td>\n",
       "      <td>0.085387</td>\n",
       "      <td>0.112338</td>\n",
       "      <td>1.000000</td>\n",
       "      <td>0.952739</td>\n",
       "      <td>-0.249715</td>\n",
       "    </tr>\n",
       "    <tr>\n",
       "      <td>Avg_class_frequency_current_month</td>\n",
       "      <td>0.009156</td>\n",
       "      <td>0.062664</td>\n",
       "      <td>0.045561</td>\n",
       "      <td>0.053768</td>\n",
       "      <td>0.013375</td>\n",
       "      <td>0.159407</td>\n",
       "      <td>0.075923</td>\n",
       "      <td>0.183095</td>\n",
       "      <td>0.079570</td>\n",
       "      <td>0.147605</td>\n",
       "      <td>0.181975</td>\n",
       "      <td>0.952739</td>\n",
       "      <td>1.000000</td>\n",
       "      <td>-0.412348</td>\n",
       "    </tr>\n",
       "    <tr>\n",
       "      <td>Churn</td>\n",
       "      <td>0.000708</td>\n",
       "      <td>-0.128098</td>\n",
       "      <td>-0.157986</td>\n",
       "      <td>-0.162233</td>\n",
       "      <td>-0.001177</td>\n",
       "      <td>-0.389984</td>\n",
       "      <td>-0.175325</td>\n",
       "      <td>-0.404735</td>\n",
       "      <td>-0.198697</td>\n",
       "      <td>-0.381393</td>\n",
       "      <td>-0.438220</td>\n",
       "      <td>-0.249715</td>\n",
       "      <td>-0.412348</td>\n",
       "      <td>1.000000</td>\n",
       "    </tr>\n",
       "  </tbody>\n",
       "</table>\n",
       "</div>"
      ],
      "text/plain": [
       "                                     gender  Near_Location   Partner  \\\n",
       "gender                             1.000000       0.006699 -0.010463   \n",
       "Near_Location                      0.006699       1.000000 -0.005119   \n",
       "Partner                           -0.010463      -0.005119  1.000000   \n",
       "Promo_friends                     -0.005033       0.210964  0.451960   \n",
       "Phone                             -0.008542      -0.015763  0.009970   \n",
       "Contract_period                    0.000502       0.150233  0.306166   \n",
       "Group_visits                       0.017879       0.154728  0.022710   \n",
       "Age                                0.013807       0.058358  0.047480   \n",
       "Avg_additional_charges_total      -0.009334       0.040761  0.022941   \n",
       "Month_to_end_contract             -0.001281       0.143961  0.294632   \n",
       "Lifetime                           0.013579       0.070921  0.061229   \n",
       "Avg_class_frequency_total          0.014620       0.043127  0.024938   \n",
       "Avg_class_frequency_current_month  0.009156       0.062664  0.045561   \n",
       "Churn                              0.000708      -0.128098 -0.157986   \n",
       "\n",
       "                                   Promo_friends     Phone  Contract_period  \\\n",
       "gender                                 -0.005033 -0.008542         0.000502   \n",
       "Near_Location                           0.210964 -0.015763         0.150233   \n",
       "Partner                                 0.451960  0.009970         0.306166   \n",
       "Promo_friends                           1.000000  0.001982         0.244552   \n",
       "Phone                                   0.001982  1.000000        -0.006893   \n",
       "Contract_period                         0.244552 -0.006893         1.000000   \n",
       "Group_visits                            0.120170 -0.010099         0.169991   \n",
       "Age                                     0.050113 -0.011403         0.138249   \n",
       "Avg_additional_charges_total            0.036898  0.009279         0.111445   \n",
       "Month_to_end_contract                   0.239553 -0.011196         0.973064   \n",
       "Lifetime                                0.072721 -0.018801         0.170725   \n",
       "Avg_class_frequency_total               0.028063  0.008340         0.096211   \n",
       "Avg_class_frequency_current_month       0.053768  0.013375         0.159407   \n",
       "Churn                                  -0.162233 -0.001177        -0.389984   \n",
       "\n",
       "                                   Group_visits       Age  \\\n",
       "gender                                 0.017879  0.013807   \n",
       "Near_Location                          0.154728  0.058358   \n",
       "Partner                                0.022710  0.047480   \n",
       "Promo_friends                          0.120170  0.050113   \n",
       "Phone                                 -0.010099 -0.011403   \n",
       "Contract_period                        0.169991  0.138249   \n",
       "Group_visits                           1.000000  0.080934   \n",
       "Age                                    0.080934  1.000000   \n",
       "Avg_additional_charges_total           0.032079  0.080240   \n",
       "Month_to_end_contract                  0.163703  0.134511   \n",
       "Lifetime                               0.075853  0.164693   \n",
       "Avg_class_frequency_total              0.056695  0.119953   \n",
       "Avg_class_frequency_current_month      0.075923  0.183095   \n",
       "Churn                                 -0.175325 -0.404735   \n",
       "\n",
       "                                   Avg_additional_charges_total  \\\n",
       "gender                                                -0.009334   \n",
       "Near_Location                                          0.040761   \n",
       "Partner                                                0.022941   \n",
       "Promo_friends                                          0.036898   \n",
       "Phone                                                  0.009279   \n",
       "Contract_period                                        0.111445   \n",
       "Group_visits                                           0.032079   \n",
       "Age                                                    0.080240   \n",
       "Avg_additional_charges_total                           1.000000   \n",
       "Month_to_end_contract                                  0.113958   \n",
       "Lifetime                                               0.079028   \n",
       "Avg_class_frequency_total                              0.044426   \n",
       "Avg_class_frequency_current_month                      0.079570   \n",
       "Churn                                                 -0.198697   \n",
       "\n",
       "                                   Month_to_end_contract  Lifetime  \\\n",
       "gender                                         -0.001281  0.013579   \n",
       "Near_Location                                   0.143961  0.070921   \n",
       "Partner                                         0.294632  0.061229   \n",
       "Promo_friends                                   0.239553  0.072721   \n",
       "Phone                                          -0.011196 -0.018801   \n",
       "Contract_period                                 0.973064  0.170725   \n",
       "Group_visits                                    0.163703  0.075853   \n",
       "Age                                             0.134511  0.164693   \n",
       "Avg_additional_charges_total                    0.113958  0.079028   \n",
       "Month_to_end_contract                           1.000000  0.161078   \n",
       "Lifetime                                        0.161078  1.000000   \n",
       "Avg_class_frequency_total                       0.085387  0.112338   \n",
       "Avg_class_frequency_current_month               0.147605  0.181975   \n",
       "Churn                                          -0.381393 -0.438220   \n",
       "\n",
       "                                   Avg_class_frequency_total  \\\n",
       "gender                                              0.014620   \n",
       "Near_Location                                       0.043127   \n",
       "Partner                                             0.024938   \n",
       "Promo_friends                                       0.028063   \n",
       "Phone                                               0.008340   \n",
       "Contract_period                                     0.096211   \n",
       "Group_visits                                        0.056695   \n",
       "Age                                                 0.119953   \n",
       "Avg_additional_charges_total                        0.044426   \n",
       "Month_to_end_contract                               0.085387   \n",
       "Lifetime                                            0.112338   \n",
       "Avg_class_frequency_total                           1.000000   \n",
       "Avg_class_frequency_current_month                   0.952739   \n",
       "Churn                                              -0.249715   \n",
       "\n",
       "                                   Avg_class_frequency_current_month     Churn  \n",
       "gender                                                      0.009156  0.000708  \n",
       "Near_Location                                               0.062664 -0.128098  \n",
       "Partner                                                     0.045561 -0.157986  \n",
       "Promo_friends                                               0.053768 -0.162233  \n",
       "Phone                                                       0.013375 -0.001177  \n",
       "Contract_period                                             0.159407 -0.389984  \n",
       "Group_visits                                                0.075923 -0.175325  \n",
       "Age                                                         0.183095 -0.404735  \n",
       "Avg_additional_charges_total                                0.079570 -0.198697  \n",
       "Month_to_end_contract                                       0.147605 -0.381393  \n",
       "Lifetime                                                    0.181975 -0.438220  \n",
       "Avg_class_frequency_total                                   0.952739 -0.249715  \n",
       "Avg_class_frequency_current_month                           1.000000 -0.412348  \n",
       "Churn                                                      -0.412348  1.000000  "
      ]
     },
     "execution_count": 27,
     "metadata": {},
     "output_type": "execute_result"
    }
   ],
   "source": [
    "corr_matrix"
   ]
  },
  {
   "cell_type": "markdown",
   "metadata": {},
   "source": [
    "We have a great correlation between:\n",
    "- Avg_class_frequency_total and Avg_class_frequency_current_month, to avoid its domination over other variables during training stage"
   ]
  },
  {
   "cell_type": "code",
   "execution_count": 28,
   "metadata": {},
   "outputs": [],
   "source": [
    "del data['Avg_class_frequency_current_month']\n"
   ]
  },
  {
   "cell_type": "markdown",
   "metadata": {},
   "source": [
    "### Conlusion:\n",
    "\n",
    "    \n",
    "    People who don't have churn: \n",
    "- are twice as likely to participate in group classes;\n",
    "- more often spent money on other gym services;\n",
    "- have more monthes remaining until the contract expires (it shows people's confidence in future visits to the gym);\n",
    "- have more visits per week over the preceding month.\n",
    "\n",
    "- People from the churn were less likely to use the partner.\n",
    "- People from the churn were more likely to use the promo friends.\n",
    "- People who churn have a small contract period.\n",
    "\n",
    "- People who churn on average yunger than People who not churn.\n",
    "\n",
    "    We have a great correlation between:\n",
    "- Promo_friends and Partner - people who have patrner with gym come through promo;\n",
    "- Partner and Contract_period - people who have patrner have the same contract period.\n",
    "    \n"
   ]
  },
  {
   "cell_type": "markdown",
   "metadata": {},
   "source": [
    "## Forecasts & Predictions <a name=\"introduction2\"></a>\n"
   ]
  },
  {
   "cell_type": "code",
   "execution_count": 29,
   "metadata": {},
   "outputs": [],
   "source": [
    "from sklearn.model_selection import train_test_split"
   ]
  },
  {
   "cell_type": "code",
   "execution_count": 30,
   "metadata": {},
   "outputs": [],
   "source": [
    "X = data.drop('Churn', axis = 1)\n",
    "y = data['Churn']"
   ]
  },
  {
   "attachments": {
    "111.jpeg": {
     "image/jpeg": "[encoded data removed]"
    }
   },
   "cell_type": "markdown",
   "metadata": {},
   "source": [
    "<div class=\"alert alert-warning\">\n",
    "\n",
    "**Reviewer's comment**\n",
    "\n",
    "We can add stratify=y inside train_test_split function, where y is our target variable. As a result, the dataset will be devided into two clusters. The first one will contain all the observations of class 0, while the second one – all the observations of class 1. Then, 20% of observations from each cluster will be combined into test set:\n",
    "    \n",
    "![111.jpeg](attachment:111.jpeg)\n",
    "    \n",
    "This approach helps to split the data into train and test sets in a way that preserves the proportions of observations in each class as observed in the original dataset. It is important as our classes are imbalanced."
   ]
  },
  {
   "cell_type": "code",
   "execution_count": 31,
   "metadata": {},
   "outputs": [],
   "source": [
    "X_train, X_test, y_train, y_test = train_test_split(X, y, test_size = 0.2, random_state= 0, stratify= y ) \n"
   ]
  },
  {
   "cell_type": "code",
   "execution_count": 32,
   "metadata": {},
   "outputs": [
    {
     "data": {
      "text/plain": [
       "LogisticRegression(C=1.0, class_weight=None, dual=False, fit_intercept=True,\n",
       "                   intercept_scaling=1, l1_ratio=None, max_iter=100,\n",
       "                   multi_class='warn', n_jobs=None, penalty='l2',\n",
       "                   random_state=None, solver='liblinear', tol=0.0001, verbose=0,\n",
       "                   warm_start=False)"
      ]
     },
     "execution_count": 32,
     "metadata": {},
     "output_type": "execute_result"
    }
   ],
   "source": [
    "from sklearn.linear_model import LogisticRegression\n",
    "\n",
    "model = LogisticRegression(solver='liblinear') \n",
    "model.fit(X_train, y_train)"
   ]
  },
  {
   "cell_type": "code",
   "execution_count": 33,
   "metadata": {},
   "outputs": [],
   "source": [
    "y_pred = model.predict(X_test) "
   ]
  },
  {
   "cell_type": "code",
   "execution_count": 34,
   "metadata": {},
   "outputs": [
    {
     "name": "stderr",
     "output_type": "stream",
     "text": [
      "/opt/conda/lib/python3.7/site-packages/sklearn/ensemble/forest.py:245: FutureWarning: The default value of n_estimators will change from 10 in version 0.20 to 100 in 0.22.\n",
      "  \"10 in version 0.20 to 100 in 0.22.\", FutureWarning)\n"
     ]
    },
    {
     "data": {
      "text/plain": [
       "RandomForestClassifier(bootstrap=True, class_weight=None, criterion='gini',\n",
       "                       max_depth=None, max_features='auto', max_leaf_nodes=None,\n",
       "                       min_impurity_decrease=0.0, min_impurity_split=None,\n",
       "                       min_samples_leaf=1, min_samples_split=2,\n",
       "                       min_weight_fraction_leaf=0.0, n_estimators=10,\n",
       "                       n_jobs=None, oob_score=False, random_state=0, verbose=0,\n",
       "                       warm_start=False)"
      ]
     },
     "execution_count": 34,
     "metadata": {},
     "output_type": "execute_result"
    }
   ],
   "source": [
    "\n",
    "from sklearn.ensemble import RandomForestClassifier\n",
    "\n",
    "\n",
    "model2 = RandomForestClassifier(random_state=0)\n",
    "model2.fit(X_train, y_train)"
   ]
  },
  {
   "cell_type": "code",
   "execution_count": 35,
   "metadata": {},
   "outputs": [],
   "source": [
    "y_pred2 = model2.predict(X_test) "
   ]
  },
  {
   "cell_type": "code",
   "execution_count": 36,
   "metadata": {},
   "outputs": [
    {
     "name": "stdout",
     "output_type": "stream",
     "text": [
      "Accuracy = 0.9038\n"
     ]
    }
   ],
   "source": [
    "from sklearn.metrics import accuracy_score, precision_score, recall_score\n",
    "\n",
    "print(\"Accuracy =\", round(accuracy_score(y_test, y_pred), 4)) "
   ]
  },
  {
   "cell_type": "code",
   "execution_count": 37,
   "metadata": {},
   "outputs": [
    {
     "data": {
      "text/plain": [
       "0    0.73475\n",
       "1    0.26525\n",
       "Name: Churn, dtype: float64"
      ]
     },
     "execution_count": 37,
     "metadata": {},
     "output_type": "execute_result"
    }
   ],
   "source": [
    "data['Churn'].value_counts(normalize = True)"
   ]
  },
  {
   "cell_type": "code",
   "execution_count": 38,
   "metadata": {},
   "outputs": [
    {
     "name": "stdout",
     "output_type": "stream",
     "text": [
      "Presicion = 0.8261\n",
      "Recall = 0.8066\n"
     ]
    }
   ],
   "source": [
    "\n",
    "precision = precision_score(y_test, y_pred)\n",
    "recall = recall_score(y_test, y_pred)\n",
    "print(\"Presicion =\", round(precision, 4))\n",
    "print(\"Recall =\", round(recall, 4))"
   ]
  },
  {
   "cell_type": "markdown",
   "metadata": {},
   "source": [
    "Even a basic model like Logistic Regression makes very accurate predictions. "
   ]
  },
  {
   "cell_type": "code",
   "execution_count": 39,
   "metadata": {},
   "outputs": [
    {
     "name": "stdout",
     "output_type": "stream",
     "text": [
      "Accuracy = 0.8775\n",
      "Presicion = 0.8098\n",
      "Recall = 0.7028\n"
     ]
    }
   ],
   "source": [
    "print(\"Accuracy =\", round(accuracy_score(y_test, y_pred2), 4)) \n",
    "precision = precision_score(y_test, y_pred2)\n",
    "recall = recall_score(y_test, y_pred2)\n",
    "print(\"Presicion =\", round(precision, 4))\n",
    "print(\"Recall =\", round(recall, 4))"
   ]
  },
  {
   "cell_type": "markdown",
   "metadata": {},
   "source": [
    "Model Random Forest Classifier makes more accurate predictions than Logistic Regression."
   ]
  },
  {
   "cell_type": "code",
   "execution_count": 40,
   "metadata": {},
   "outputs": [],
   "source": [
    "from sklearn.preprocessing import StandardScaler\n",
    "\n",
    "scaler = StandardScaler() \n",
    "X_sc = scaler.fit_transform(X)"
   ]
  },
  {
   "cell_type": "code",
   "execution_count": 41,
   "metadata": {},
   "outputs": [],
   "source": [
    "from scipy.cluster.hierarchy import dendrogram, linkage \n",
    "linked = linkage(X_sc, method = 'ward') "
   ]
  },
  {
   "cell_type": "code",
   "execution_count": 42,
   "metadata": {},
   "outputs": [
    {
     "data": {
      "image/png": "[encoded data removed]",
      "text/plain": [
       "<Figure size 1080x720 with 1 Axes>"
      ]
     },
     "metadata": {
      "needs_background": "light"
     },
     "output_type": "display_data"
    }
   ],
   "source": [
    "plt.figure(figsize=(15, 10))  \n",
    "plt.title('Hierarchical clustering for GYM')\n",
    "dendrogram(linked, orientation='top')\n",
    "plt.show()"
   ]
  },
  {
   "cell_type": "markdown",
   "metadata": {},
   "source": [
    "Optimal number of clusters (5) corresponds to the four different colors on the plot, but purple the bigest one, so for good proportion i divide it for two clusters."
   ]
  },
  {
   "cell_type": "code",
   "execution_count": 43,
   "metadata": {},
   "outputs": [],
   "source": [
    "from sklearn.cluster import KMeans\n",
    "\n",
    "km = KMeans(n_clusters = 5, random_state=0) \n",
    "labels = km.fit_predict(X_sc) "
   ]
  },
  {
   "cell_type": "code",
   "execution_count": 44,
   "metadata": {},
   "outputs": [],
   "source": [
    "data['cluster_km'] = labels\n",
    "data1= data.groupby(['cluster_km']).mean()"
   ]
  },
  {
   "cell_type": "code",
   "execution_count": 48,
   "metadata": {},
   "outputs": [
    {
     "data": {
      "text/html": [
       "<div>\n",
       "<style scoped>\n",
       "    .dataframe tbody tr th:only-of-type {\n",
       "        vertical-align: middle;\n",
       "    }\n",
       "\n",
       "    .dataframe tbody tr th {\n",
       "        vertical-align: top;\n",
       "    }\n",
       "\n",
       "    .dataframe thead th {\n",
       "        text-align: right;\n",
       "    }\n",
       "</style>\n",
       "<table border=\"1\" class=\"dataframe\">\n",
       "  <thead>\n",
       "    <tr style=\"text-align: right;\">\n",
       "      <th></th>\n",
       "      <th>gender</th>\n",
       "      <th>Near_Location</th>\n",
       "      <th>Partner</th>\n",
       "      <th>Promo_friends</th>\n",
       "      <th>Phone</th>\n",
       "      <th>Contract_period</th>\n",
       "      <th>Group_visits</th>\n",
       "      <th>Age</th>\n",
       "      <th>Avg_additional_charges_total</th>\n",
       "      <th>Month_to_end_contract</th>\n",
       "      <th>Lifetime</th>\n",
       "      <th>Avg_class_frequency_total</th>\n",
       "      <th>Churn</th>\n",
       "      <th>cluster_km</th>\n",
       "    </tr>\n",
       "  </thead>\n",
       "  <tbody>\n",
       "    <tr>\n",
       "      <td>0</td>\n",
       "      <td>1</td>\n",
       "      <td>1</td>\n",
       "      <td>1</td>\n",
       "      <td>1</td>\n",
       "      <td>0</td>\n",
       "      <td>6</td>\n",
       "      <td>1</td>\n",
       "      <td>29</td>\n",
       "      <td>14.227470</td>\n",
       "      <td>5.0</td>\n",
       "      <td>3</td>\n",
       "      <td>0.020398</td>\n",
       "      <td>0</td>\n",
       "      <td>4</td>\n",
       "    </tr>\n",
       "    <tr>\n",
       "      <td>1</td>\n",
       "      <td>0</td>\n",
       "      <td>1</td>\n",
       "      <td>0</td>\n",
       "      <td>0</td>\n",
       "      <td>1</td>\n",
       "      <td>12</td>\n",
       "      <td>1</td>\n",
       "      <td>31</td>\n",
       "      <td>113.202938</td>\n",
       "      <td>12.0</td>\n",
       "      <td>7</td>\n",
       "      <td>1.922936</td>\n",
       "      <td>0</td>\n",
       "      <td>0</td>\n",
       "    </tr>\n",
       "    <tr>\n",
       "      <td>2</td>\n",
       "      <td>0</td>\n",
       "      <td>1</td>\n",
       "      <td>1</td>\n",
       "      <td>0</td>\n",
       "      <td>1</td>\n",
       "      <td>1</td>\n",
       "      <td>0</td>\n",
       "      <td>28</td>\n",
       "      <td>129.448479</td>\n",
       "      <td>1.0</td>\n",
       "      <td>2</td>\n",
       "      <td>1.859098</td>\n",
       "      <td>0</td>\n",
       "      <td>2</td>\n",
       "    </tr>\n",
       "    <tr>\n",
       "      <td>3</td>\n",
       "      <td>0</td>\n",
       "      <td>1</td>\n",
       "      <td>1</td>\n",
       "      <td>1</td>\n",
       "      <td>1</td>\n",
       "      <td>12</td>\n",
       "      <td>1</td>\n",
       "      <td>33</td>\n",
       "      <td>62.669863</td>\n",
       "      <td>12.0</td>\n",
       "      <td>2</td>\n",
       "      <td>3.205633</td>\n",
       "      <td>0</td>\n",
       "      <td>0</td>\n",
       "    </tr>\n",
       "    <tr>\n",
       "      <td>4</td>\n",
       "      <td>1</td>\n",
       "      <td>1</td>\n",
       "      <td>1</td>\n",
       "      <td>1</td>\n",
       "      <td>1</td>\n",
       "      <td>1</td>\n",
       "      <td>0</td>\n",
       "      <td>26</td>\n",
       "      <td>198.362265</td>\n",
       "      <td>1.0</td>\n",
       "      <td>3</td>\n",
       "      <td>1.113884</td>\n",
       "      <td>0</td>\n",
       "      <td>1</td>\n",
       "    </tr>\n",
       "  </tbody>\n",
       "</table>\n",
       "</div>"
      ],
      "text/plain": [
       "   gender  Near_Location  Partner  Promo_friends  Phone  Contract_period  \\\n",
       "0       1              1        1              1      0                6   \n",
       "1       0              1        0              0      1               12   \n",
       "2       0              1        1              0      1                1   \n",
       "3       0              1        1              1      1               12   \n",
       "4       1              1        1              1      1                1   \n",
       "\n",
       "   Group_visits  Age  Avg_additional_charges_total  Month_to_end_contract  \\\n",
       "0             1   29                     14.227470                    5.0   \n",
       "1             1   31                    113.202938                   12.0   \n",
       "2             0   28                    129.448479                    1.0   \n",
       "3             1   33                     62.669863                   12.0   \n",
       "4             0   26                    198.362265                    1.0   \n",
       "\n",
       "   Lifetime  Avg_class_frequency_total  Churn  cluster_km  \n",
       "0         3                   0.020398      0           4  \n",
       "1         7                   1.922936      0           0  \n",
       "2         2                   1.859098      0           2  \n",
       "3         2                   3.205633      0           0  \n",
       "4         3                   1.113884      0           1  "
      ]
     },
     "execution_count": 48,
     "metadata": {},
     "output_type": "execute_result"
    }
   ],
   "source": [
    "data.head()"
   ]
  },
  {
   "cell_type": "markdown",
   "metadata": {},
   "source": [
    "Conclusions about clusters :\n",
    "- people from clusters 0 have a partner;\n",
    "- 79% of people from cluster 2 used Promo friends;\n",
    "- people from cluster 0 have the greatest contract period - about for one year;\n",
    "- people from cluster 2 less using group visits;\n",
    "- people from cluster 4 more spending time in a gym;\n",
    "- clusters 0 and 4 have greatest lifetime.\n",
    "- clusters 0 and 4 have less customer churn.\n"
   ]
  },
  {
   "cell_type": "code",
   "execution_count": 52,
   "metadata": {},
   "outputs": [
    {
     "data": {
      "image/png": "[encoded data removed]",
      "text/plain": [
       "<Figure size 720x360 with 1 Axes>"
      ]
     },
     "metadata": {
      "needs_background": "light"
     },
     "output_type": "display_data"
    }
   ],
   "source": [
    "plt.figure(figsize=(10, 5))\n",
    "sns.boxplot(data=data,x =\"Age\", orient=\"h\", y=\"cluster_km\", palette=\"Set2\")\n",
    "plt.title('Age by cluster')\n",
    "plt.show() "
   ]
  },
  {
   "cell_type": "markdown",
   "metadata": {},
   "source": [
    "All clusters do not differ in age."
   ]
  },
  {
   "cell_type": "code",
   "execution_count": 49,
   "metadata": {},
   "outputs": [
    {
     "data": {
      "image/png": "[encoded data removed]",
      "text/plain": [
       "<Figure size 720x360 with 1 Axes>"
      ]
     },
     "metadata": {
      "needs_background": "light"
     },
     "output_type": "display_data"
    }
   ],
   "source": [
    "plt.figure(figsize=(10, 5))\n",
    "plt.title('Gender by cluster')\n",
    "sns.countplot(x=\"gender\", hue=\"cluster_km\", data=data)\n",
    "plt.show() "
   ]
  },
  {
   "cell_type": "markdown",
   "metadata": {},
   "source": [
    "All clusters do not differ in gender."
   ]
  },
  {
   "cell_type": "code",
   "execution_count": 56,
   "metadata": {},
   "outputs": [
    {
     "data": {
      "image/png": "[encoded data removed]",
      "text/plain": [
       "<Figure size 720x360 with 1 Axes>"
      ]
     },
     "metadata": {
      "needs_background": "light"
     },
     "output_type": "display_data"
    }
   ],
   "source": [
    "\n",
    "plt.figure(figsize=(10, 5))\n",
    "plt.title('Near_Location by cluster')\n",
    "sns.countplot(x=\"Near_Location\", hue=\"cluster_km\", data=data)\n",
    "plt.show() "
   ]
  },
  {
   "cell_type": "markdown",
   "metadata": {},
   "source": [
    "Cluster 3 is not near the gym.\n",
    "Cluster 1 has the most convenient location relative to the gym.\n"
   ]
  },
  {
   "cell_type": "code",
   "execution_count": 57,
   "metadata": {},
   "outputs": [
    {
     "data": {
      "image/png": "[encoded data removed]",
      "text/plain": [
       "<Figure size 720x360 with 1 Axes>"
      ]
     },
     "metadata": {
      "needs_background": "light"
     },
     "output_type": "display_data"
    }
   ],
   "source": [
    "\n",
    "plt.figure(figsize=(10, 5))\n",
    "plt.title('Partner by cluster')\n",
    "sns.countplot(x=\"Partner\", hue=\"cluster_km\", data=data)\n",
    "plt.show() "
   ]
  },
  {
   "cell_type": "markdown",
   "metadata": {},
   "source": [
    "People from clusters 0 have more partner than other.\n",
    "People from clusters 2 have less partner than other.\n"
   ]
  },
  {
   "cell_type": "code",
   "execution_count": 58,
   "metadata": {},
   "outputs": [
    {
     "data": {
      "image/png": "[encoded data removed]",
      "text/plain": [
       "<Figure size 720x360 with 1 Axes>"
      ]
     },
     "metadata": {
      "needs_background": "light"
     },
     "output_type": "display_data"
    }
   ],
   "source": [
    "plt.figure(figsize=(10, 5))\n",
    "plt.title('Promo friends by cluster')\n",
    "sns.countplot(x=\"Promo_friends\", hue=\"cluster_km\", data=data)\n",
    "plt.show() \n"
   ]
  },
  {
   "cell_type": "markdown",
   "metadata": {},
   "source": [
    "Clusters 0 and 1 use more promo friends then another.\n",
    "Cluster 2 don't use more promo friends.\n"
   ]
  },
  {
   "cell_type": "code",
   "execution_count": 59,
   "metadata": {},
   "outputs": [
    {
     "data": {
      "image/png": "[encoded data removed]",
      "text/plain": [
       "<Figure size 720x360 with 1 Axes>"
      ]
     },
     "metadata": {
      "needs_background": "light"
     },
     "output_type": "display_data"
    }
   ],
   "source": [
    "plt.figure(figsize=(10, 5))\n",
    "plt.title('Contract period for cluster')\n",
    "sns.countplot(x=\"Contract_period\", hue=\"cluster_km\", data=data)\n",
    "plt.show() \n"
   ]
  },
  {
   "cell_type": "markdown",
   "metadata": {},
   "source": [
    "Cluster 1, 2 and 3 have the lowest contract period.\n",
    "Cluster 0 have the longest contract period.\n"
   ]
  },
  {
   "cell_type": "code",
   "execution_count": 60,
   "metadata": {},
   "outputs": [
    {
     "data": {
      "image/png": "[encoded data removed]",
      "text/plain": [
       "<Figure size 720x360 with 1 Axes>"
      ]
     },
     "metadata": {
      "needs_background": "light"
     },
     "output_type": "display_data"
    }
   ],
   "source": [
    "plt.figure(figsize=(10, 5))\n",
    "plt.title('Group visits by cluster')\n",
    "sns.countplot(x=\"Group_visits\", hue=\"cluster_km\", data=data)\n",
    "plt.show() "
   ]
  },
  {
   "cell_type": "markdown",
   "metadata": {},
   "source": [
    "Clusters 2 have the less group visits."
   ]
  },
  {
   "cell_type": "code",
   "execution_count": 54,
   "metadata": {},
   "outputs": [
    {
     "data": {
      "image/png": "[encoded data removed]",
      "text/plain": [
       "<Figure size 720x360 with 1 Axes>"
      ]
     },
     "metadata": {
      "needs_background": "light"
     },
     "output_type": "display_data"
    }
   ],
   "source": [
    "\n",
    "plt.figure(figsize=(10, 5))\n",
    "sns.boxplot(data=data,x =\"Avg_additional_charges_total\", orient=\"h\", y=\"cluster_km\", palette=\"Set2\")\n",
    "plt.title('Avg additional charges by cluster')\n",
    "plt.show() "
   ]
  },
  {
   "cell_type": "markdown",
   "metadata": {},
   "source": [
    "People from cluster 0  make more additional charges."
   ]
  },
  {
   "cell_type": "code",
   "execution_count": 64,
   "metadata": {},
   "outputs": [
    {
     "data": {
      "image/png": "[encoded data removed]",
      "text/plain": [
       "<Figure size 720x360 with 1 Axes>"
      ]
     },
     "metadata": {
      "needs_background": "light"
     },
     "output_type": "display_data"
    }
   ],
   "source": [
    "plt.figure(figsize=(10, 5))\n",
    "plt.title('Month to end contract by cluster')\n",
    "sns.countplot(x=\"Month_to_end_contract\", hue=\"cluster_km\", data=data)\n",
    "plt.show() \n"
   ]
  },
  {
   "cell_type": "markdown",
   "metadata": {},
   "source": [
    "Cluster 0 have the biggest number of people with longtern contracts.\n",
    "People in clusters 1, 2 and 3 have a lowtern contracts."
   ]
  },
  {
   "cell_type": "code",
   "execution_count": 66,
   "metadata": {},
   "outputs": [
    {
     "data": {
      "image/png": "[encoded data removed]",
      "text/plain": [
       "<Figure size 720x360 with 1 Axes>"
      ]
     },
     "metadata": {
      "needs_background": "light"
     },
     "output_type": "display_data"
    }
   ],
   "source": [
    "\n",
    "plt.figure(figsize=(10, 5))\n",
    "plt.bar('cluster_km', 'Avg_class_frequency_total', data=data, width = 0.4)\n",
    "plt.title('Avg class frequency total')\n",
    "plt.show() "
   ]
  },
  {
   "cell_type": "markdown",
   "metadata": {},
   "source": [
    "People from group 1 have geatest average frequency of visits per week over the customer's lifetime."
   ]
  },
  {
   "cell_type": "code",
   "execution_count": 55,
   "metadata": {},
   "outputs": [
    {
     "data": {
      "image/png": "[encoded data removed]",
      "text/plain": [
       "<Figure size 720x360 with 1 Axes>"
      ]
     },
     "metadata": {
      "needs_background": "light"
     },
     "output_type": "display_data"
    }
   ],
   "source": [
    "\n",
    "plt.figure(figsize=(10, 5))\n",
    "sns.boxplot(data=data,x =\"Lifetime\", orient=\"h\", y=\"cluster_km\", palette=\"Set2\")\n",
    "plt.title('Lifetime of clients by cluster')\n",
    "plt.show() \n",
    "\n",
    "\n"
   ]
  },
  {
   "cell_type": "markdown",
   "metadata": {},
   "source": [
    "People from cluster 0 have more Lifetime."
   ]
  },
  {
   "cell_type": "code",
   "execution_count": 67,
   "metadata": {},
   "outputs": [
    {
     "data": {
      "image/png": "[encoded data removed]",
      "text/plain": [
       "<Figure size 720x360 with 1 Axes>"
      ]
     },
     "metadata": {
      "needs_background": "light"
     },
     "output_type": "display_data"
    }
   ],
   "source": [
    "plt.figure(figsize=(10, 5))\n",
    "plt.title('Churn of clients by cluster')\n",
    "sns.countplot(x=\"Churn\", hue=\"cluster_km\", data=data)\n",
    "plt.show() \n",
    "\n",
    "\n"
   ]
  },
  {
   "cell_type": "markdown",
   "metadata": {},
   "source": [
    "People from clusters 0 and 4 have a lowest count of Churn."
   ]
  },
  {
   "cell_type": "code",
   "execution_count": 55,
   "metadata": {},
   "outputs": [
    {
     "data": {
      "text/plain": [
       "cluster_km  Churn\n",
       "0           0        0.972305\n",
       "            1        0.027695\n",
       "1           0        0.732468\n",
       "            1        0.267532\n",
       "2           0        0.556436\n",
       "            1        0.443564\n",
       "3           1        0.514263\n",
       "            0        0.485737\n",
       "4           0        0.931900\n",
       "            1        0.068100\n",
       "Name: Churn, dtype: float64"
      ]
     },
     "execution_count": 55,
     "metadata": {},
     "output_type": "execute_result"
    }
   ],
   "source": [
    "data.groupby(['cluster_km'])['Churn'].value_counts(normalize = True)"
   ]
  },
  {
   "cell_type": "markdown",
   "metadata": {},
   "source": [
    "### Conlusion:\n",
    "\n",
    "\n",
    "- Model Random Forest Classifier makes more accurate predictions than Logistic Regression.\n",
    "- Optimal number of clusters (5) corresponds to the five different colors on the plot.\n",
    "    \n",
    "  Conclusions about clusters :\n",
    "- people from clusters 0 have more partner than other;\n",
    "- people from clusters 2 have less partner than other.\n",
    "- people from cluster 0  make more additional charges.\n",
    "- 79% of people from cluster 2 used Promo friends;\n",
    "- cluster 2 don't use more promo friends.\n",
    "- cluster 1, 2 and 3 have the lowest contract period.\n",
    "- cluster 0 have the longest contract period.\n",
    "- people from cluster 2 less using group visits;\n",
    "- people from cluster 4 more spending time in a gym;\n",
    "- cluster 0 have greatest lifetime.\n",
    "- clusters 0 and 4 have less customer churn.\n",
    "- all clusters do not differ in age.\n",
    "- all clusters do not differ in gender.\n",
    "- cluster 3 is not near the gym.\n",
    "- cluster 1 has the most convenient location relative to the gym.\n",
    "- in clusters 0, 2 we see low churn of people."
   ]
  },
  {
   "cell_type": "markdown",
   "metadata": {},
   "source": [
    "# General conclusion and Recommendation :<a name=\"introduction3\"></a>\n"
   ]
  },
  {
   "cell_type": "markdown",
   "metadata": {},
   "source": [
    "## Conclusion\n",
    "In our data we have:\n",
    "- the same number of people of both genders;\n",
    "- the mean age of people is 29;\n",
    "- the mean contract period about 4.5 month;\n",
    "- the mean life time of users about 3.7 month.\n",
    "\n",
    "People who don't have churn: \n",
    "- are twice as likely to participate in group classes;\n",
    "- more often spent money on other gym services;\n",
    "- have more monthes remaining until the contract expires (it shows people's confidence in future visits to the gym);\n",
    "- have more visits per week over the preceding month.\n",
    "\n",
    "People who have churn:\n",
    "- less likely to use the partner;\n",
    "- more likely to use the promo friends.\n",
    "- have a small contract period.\n",
    "\n",
    "People who churn on average yunger than People who not churn.\n",
    "\n",
    "We have a great correlation between:\n",
    "- Promo_friends and Partner - people who have patrner with gym come through promo;\n",
    "- Partner and Contract_period - people who have patrner have the same contract period.\n",
    "\n",
    "\n",
    "Conclusions about clusters :\n",
    "- people from clusters 0 have more partner than other;\n",
    "- people from clusters 2 have less partner than other.\n",
    "- people from cluster 0  make more additional charges.\n",
    "- 79% of people from cluster 2 used Promo friends;\n",
    "- cluster 2 don't use more promo friends.\n",
    "- cluster 1, 2 and 3 have the lowest contract period.\n",
    "- cluster 0 have the longest contract period.\n",
    "- people from cluster 2 less using group visits;\n",
    "- people from cluster 4 more spending time in a gym;\n",
    "- cluster 0 have greatest lifetime.\n",
    "- clusters 0 and 4 have less customer churn.\n",
    "- all clusters do not differ in age.\n",
    "- all clusters do not differ in gender.\n",
    "- cluster 3 is not near the gym.\n",
    "- cluster 1 has the most convenient location relative to the gym."
   ]
  },
  {
   "cell_type": "markdown",
   "metadata": {},
   "source": [
    "## Recommendation\n",
    "\n",
    "I recommend to make more client for clusters 0 and 4:\n",
    "- more partner programs;\n",
    "- more group activities;\n",
    "- the \n",
    "and propose for this people more longtern subscription\n",
    "\n",
    "For less churn - to open new gyms near place of living of people from cluster 2;\n",
    "Promo friend not so Effective that suppost to be."
   ]
  },
  {
   "cell_type": "markdown",
   "metadata": {},
   "source": []
  }
 ],
 "metadata": {
  "ExecuteTimeLog": [
   {
    "duration": 1860,
    "start_time": "2021-06-19T09:20:01.620Z"
   },
   {
    "duration": 130,
    "start_time": "2021-06-19T09:20:03.485Z"
   },
   {
    "duration": 33,
    "start_time": "2021-06-19T09:20:03.618Z"
   },
   {
    "duration": 17,
    "start_time": "2021-06-19T09:26:50.612Z"
   },
   {
    "duration": 11,
    "start_time": "2021-06-19T09:27:08.045Z"
   },
   {
    "duration": 27,
    "start_time": "2021-06-19T09:27:34.825Z"
   },
   {
    "duration": 13,
    "start_time": "2021-06-19T09:30:22.462Z"
   },
   {
    "duration": 25,
    "start_time": "2021-06-19T09:30:28.498Z"
   },
   {
    "duration": 333,
    "start_time": "2021-06-19T09:31:07.294Z"
   },
   {
    "duration": 397,
    "start_time": "2021-06-19T12:56:35.532Z"
   },
   {
    "duration": 385,
    "start_time": "2021-06-19T12:56:41.892Z"
   },
   {
    "duration": 624,
    "start_time": "2021-06-19T12:56:53.188Z"
   },
   {
    "duration": 623,
    "start_time": "2021-06-19T12:57:23.960Z"
   },
   {
    "duration": 593,
    "start_time": "2021-06-19T12:58:22.322Z"
   },
   {
    "duration": 598,
    "start_time": "2021-06-19T12:58:53.118Z"
   },
   {
    "duration": 646,
    "start_time": "2021-06-19T13:00:02.607Z"
   },
   {
    "duration": 750,
    "start_time": "2021-06-19T13:00:11.096Z"
   },
   {
    "duration": 15,
    "start_time": "2021-06-19T13:00:59.227Z"
   },
   {
    "duration": 27,
    "start_time": "2021-06-19T13:01:30.750Z"
   },
   {
    "duration": 4,
    "start_time": "2021-06-19T14:06:46.162Z"
   },
   {
    "duration": 82,
    "start_time": "2021-06-19T14:06:46.493Z"
   },
   {
    "duration": 18,
    "start_time": "2021-06-19T14:06:46.653Z"
   },
   {
    "duration": 8,
    "start_time": "2021-06-19T14:06:47.363Z"
   },
   {
    "duration": 12,
    "start_time": "2021-06-19T14:06:47.593Z"
   },
   {
    "duration": 73,
    "start_time": "2021-06-19T14:06:47.797Z"
   },
   {
    "duration": -65,
    "start_time": "2021-06-19T14:34:32.423Z"
   },
   {
    "duration": 348,
    "start_time": "2021-06-19T14:35:30.902Z"
   },
   {
    "duration": 342,
    "start_time": "2021-06-19T14:35:31.521Z"
   },
   {
    "duration": 334,
    "start_time": "2021-06-19T14:36:53.193Z"
   },
   {
    "duration": 372,
    "start_time": "2021-06-19T14:42:37.286Z"
   },
   {
    "duration": 437,
    "start_time": "2021-06-19T14:42:39.611Z"
   },
   {
    "duration": 772,
    "start_time": "2021-06-20T08:39:07.965Z"
   },
   {
    "duration": 672,
    "start_time": "2021-06-20T08:39:12.266Z"
   },
   {
    "duration": 185,
    "start_time": "2021-06-20T08:39:12.940Z"
   },
   {
    "duration": 21,
    "start_time": "2021-06-20T08:39:13.128Z"
   },
   {
    "duration": 21,
    "start_time": "2021-06-20T08:39:13.151Z"
   },
   {
    "duration": 26,
    "start_time": "2021-06-20T08:39:13.174Z"
   },
   {
    "duration": 78,
    "start_time": "2021-06-20T08:39:13.203Z"
   },
   {
    "duration": 23,
    "start_time": "2021-06-20T08:39:13.387Z"
   },
   {
    "duration": 324,
    "start_time": "2021-06-20T08:39:13.529Z"
   },
   {
    "duration": 347,
    "start_time": "2021-06-20T08:39:13.856Z"
   },
   {
    "duration": 359,
    "start_time": "2021-06-20T08:39:14.206Z"
   },
   {
    "duration": 342,
    "start_time": "2021-06-20T08:39:14.568Z"
   },
   {
    "duration": 333,
    "start_time": "2021-06-20T08:39:14.913Z"
   },
   {
    "duration": 419,
    "start_time": "2021-06-20T08:39:15.254Z"
   },
   {
    "duration": 599,
    "start_time": "2021-06-20T08:39:15.676Z"
   },
   {
    "duration": 25,
    "start_time": "2021-06-20T08:39:16.278Z"
   },
   {
    "duration": 4,
    "start_time": "2021-06-20T08:39:16.620Z"
   },
   {
    "duration": 5,
    "start_time": "2021-06-20T08:43:42.858Z"
   },
   {
    "duration": 7,
    "start_time": "2021-06-20T08:43:43.424Z"
   },
   {
    "duration": 60,
    "start_time": "2021-06-20T08:44:46.258Z"
   },
   {
    "duration": 14,
    "start_time": "2021-06-20T08:48:21.697Z"
   },
   {
    "duration": 1073,
    "start_time": "2021-06-20T08:51:36.366Z"
   },
   {
    "duration": 55,
    "start_time": "2021-06-20T08:51:42.884Z"
   },
   {
    "duration": 46,
    "start_time": "2021-06-20T08:52:33.198Z"
   },
   {
    "duration": 6,
    "start_time": "2021-06-20T08:52:34.123Z"
   },
   {
    "duration": 55,
    "start_time": "2021-06-20T08:52:34.964Z"
   },
   {
    "duration": 8,
    "start_time": "2021-06-20T08:55:19.811Z"
   },
   {
    "duration": 48,
    "start_time": "2021-06-20T09:00:41.135Z"
   },
   {
    "duration": 7,
    "start_time": "2021-06-20T09:00:41.493Z"
   },
   {
    "duration": 55,
    "start_time": "2021-06-20T09:00:41.726Z"
   },
   {
    "duration": 11,
    "start_time": "2021-06-20T09:00:41.940Z"
   },
   {
    "duration": 6,
    "start_time": "2021-06-20T09:05:40.196Z"
   },
   {
    "duration": 9,
    "start_time": "2021-06-20T09:05:44.650Z"
   },
   {
    "duration": 10,
    "start_time": "2021-06-20T09:10:57.916Z"
   },
   {
    "duration": 11,
    "start_time": "2021-06-20T09:11:57.673Z"
   },
   {
    "duration": 8,
    "start_time": "2021-06-20T09:16:07.703Z"
   },
   {
    "duration": 894,
    "start_time": "2021-06-20T09:22:34.126Z"
   },
   {
    "duration": 132579,
    "start_time": "2021-06-20T09:22:55.135Z"
   },
   {
    "duration": 1849,
    "start_time": "2021-06-20T09:42:09.816Z"
   },
   {
    "duration": 28,
    "start_time": "2021-06-20T09:45:59.918Z"
   },
   {
    "duration": 328,
    "start_time": "2021-06-20T10:03:08.114Z"
   },
   {
    "duration": 1094,
    "start_time": "2021-06-20T10:03:24.375Z"
   },
   {
    "duration": 660,
    "start_time": "2021-06-20T10:03:50.117Z"
   },
   {
    "duration": 651,
    "start_time": "2021-06-20T10:04:18.521Z"
   },
   {
    "duration": 324,
    "start_time": "2021-06-20T10:23:33.117Z"
   },
   {
    "duration": 344,
    "start_time": "2021-06-20T10:23:33.444Z"
   },
   {
    "duration": 345,
    "start_time": "2021-06-20T10:23:33.792Z"
   },
   {
    "duration": 406,
    "start_time": "2021-06-20T10:23:34.437Z"
   },
   {
    "duration": 349,
    "start_time": "2021-06-20T10:23:34.846Z"
   },
   {
    "duration": 6780,
    "start_time": "2021-06-20T10:25:10.056Z"
   },
   {
    "duration": 821,
    "start_time": "2021-06-20T10:25:18.621Z"
   },
   {
    "duration": 652,
    "start_time": "2021-06-20T10:25:45.761Z"
   },
   {
    "duration": 302,
    "start_time": "2021-06-20T10:26:47.696Z"
   },
   {
    "duration": 639,
    "start_time": "2021-06-20T10:27:11.242Z"
   },
   {
    "duration": 651,
    "start_time": "2021-06-20T10:27:37.584Z"
   },
   {
    "duration": 641,
    "start_time": "2021-06-20T10:29:15.297Z"
   },
   {
    "duration": 748,
    "start_time": "2021-06-20T10:29:53.976Z"
   },
   {
    "duration": 413,
    "start_time": "2021-06-20T10:30:17.362Z"
   },
   {
    "duration": 391,
    "start_time": "2021-06-20T10:30:19.993Z"
   },
   {
    "duration": 318,
    "start_time": "2021-06-21T01:36:30.051Z"
   },
   {
    "duration": 1484,
    "start_time": "2021-06-21T01:36:35.499Z"
   },
   {
    "duration": 187,
    "start_time": "2021-06-21T01:36:36.985Z"
   },
   {
    "duration": 21,
    "start_time": "2021-06-21T01:36:37.175Z"
   },
   {
    "duration": 15,
    "start_time": "2021-06-21T01:36:37.199Z"
   },
   {
    "duration": 17,
    "start_time": "2021-06-21T01:36:37.216Z"
   },
   {
    "duration": 70,
    "start_time": "2021-06-21T01:36:37.262Z"
   },
   {
    "duration": 22,
    "start_time": "2021-06-21T01:36:37.817Z"
   },
   {
    "duration": 326,
    "start_time": "2021-06-21T01:36:38.279Z"
   },
   {
    "duration": 397,
    "start_time": "2021-06-21T01:36:38.607Z"
   },
   {
    "duration": 329,
    "start_time": "2021-06-21T01:36:39.007Z"
   },
   {
    "duration": 333,
    "start_time": "2021-06-21T01:36:39.338Z"
   },
   {
    "duration": 315,
    "start_time": "2021-06-21T01:36:39.712Z"
   },
   {
    "duration": 379,
    "start_time": "2021-06-21T01:36:40.029Z"
   },
   {
    "duration": 600,
    "start_time": "2021-06-21T01:36:40.424Z"
   },
   {
    "duration": 25,
    "start_time": "2021-06-21T01:36:41.026Z"
   },
   {
    "duration": 117,
    "start_time": "2021-06-21T01:36:41.413Z"
   },
   {
    "duration": 5,
    "start_time": "2021-06-21T01:36:42.178Z"
   },
   {
    "duration": 8,
    "start_time": "2021-06-21T01:36:42.311Z"
   },
   {
    "duration": 68,
    "start_time": "2021-06-21T01:36:42.783Z"
   },
   {
    "duration": 27,
    "start_time": "2021-06-21T01:36:43.099Z"
   },
   {
    "duration": 78,
    "start_time": "2021-06-21T01:36:43.497Z"
   },
   {
    "duration": 8,
    "start_time": "2021-06-21T01:36:43.903Z"
   },
   {
    "duration": 6,
    "start_time": "2021-06-21T01:36:44.199Z"
   },
   {
    "duration": 9,
    "start_time": "2021-06-21T01:36:44.585Z"
   },
   {
    "duration": 9,
    "start_time": "2021-06-21T01:36:44.915Z"
   },
   {
    "duration": 11,
    "start_time": "2021-06-21T01:36:45.675Z"
   },
   {
    "duration": 8,
    "start_time": "2021-06-21T01:36:46.273Z"
   },
   {
    "duration": 783,
    "start_time": "2021-06-21T01:36:46.602Z"
   },
   {
    "duration": 128891,
    "start_time": "2021-06-21T01:36:47.388Z"
   },
   {
    "duration": 1550,
    "start_time": "2021-06-21T01:38:56.282Z"
   },
   {
    "duration": 28,
    "start_time": "2021-06-21T01:38:57.925Z"
   },
   {
    "duration": 639,
    "start_time": "2021-06-21T01:38:57.956Z"
   },
   {
    "duration": 631,
    "start_time": "2021-06-21T01:38:58.597Z"
   },
   {
    "duration": 11,
    "start_time": "2021-06-21T01:38:59.231Z"
   },
   {
    "duration": 100,
    "start_time": "2021-06-21T01:49:47.135Z"
   },
   {
    "duration": 75,
    "start_time": "2021-06-21T01:49:56.775Z"
   },
   {
    "duration": 342,
    "start_time": "2021-06-21T01:56:27.185Z"
   },
   {
    "duration": 619,
    "start_time": "2021-06-21T01:56:39.625Z"
   },
   {
    "duration": 346,
    "start_time": "2021-06-21T01:56:49.389Z"
   },
   {
    "duration": 331,
    "start_time": "2021-06-21T01:57:20.199Z"
   },
   {
    "duration": 331,
    "start_time": "2021-06-21T01:57:29.649Z"
   },
   {
    "duration": 99,
    "start_time": "2021-06-21T01:57:37.227Z"
   },
   {
    "duration": 328,
    "start_time": "2021-06-21T01:57:39.999Z"
   },
   {
    "duration": 423,
    "start_time": "2021-06-21T01:58:50.169Z"
   },
   {
    "duration": 364,
    "start_time": "2021-06-21T01:58:55.213Z"
   },
   {
    "duration": 325,
    "start_time": "2021-06-21T01:59:07.494Z"
   },
   {
    "duration": 599,
    "start_time": "2021-06-21T02:00:28.111Z"
   },
   {
    "duration": 1432,
    "start_time": "2021-06-21T08:20:25.586Z"
   },
   {
    "duration": 196,
    "start_time": "2021-06-21T08:20:27.020Z"
   },
   {
    "duration": 22,
    "start_time": "2021-06-21T08:20:27.219Z"
   },
   {
    "duration": 11,
    "start_time": "2021-06-21T08:20:27.243Z"
   },
   {
    "duration": 18,
    "start_time": "2021-06-21T08:20:27.257Z"
   },
   {
    "duration": 81,
    "start_time": "2021-06-21T08:20:27.277Z"
   },
   {
    "duration": 21,
    "start_time": "2021-06-21T08:20:27.361Z"
   },
   {
    "duration": 459,
    "start_time": "2021-06-21T08:20:27.386Z"
   },
   {
    "duration": 358,
    "start_time": "2021-06-21T08:20:27.854Z"
   },
   {
    "duration": 357,
    "start_time": "2021-06-21T08:20:28.215Z"
   },
   {
    "duration": 354,
    "start_time": "2021-06-21T08:20:28.575Z"
   },
   {
    "duration": 359,
    "start_time": "2021-06-21T08:20:28.932Z"
   },
   {
    "duration": 395,
    "start_time": "2021-06-21T08:20:29.293Z"
   },
   {
    "duration": 648,
    "start_time": "2021-06-21T08:20:29.691Z"
   },
   {
    "duration": 33,
    "start_time": "2021-06-21T08:20:30.342Z"
   },
   {
    "duration": 139,
    "start_time": "2021-06-21T08:20:30.377Z"
   },
   {
    "duration": 5,
    "start_time": "2021-06-21T08:20:30.519Z"
   },
   {
    "duration": 19,
    "start_time": "2021-06-21T08:20:30.527Z"
   },
   {
    "duration": 77,
    "start_time": "2021-06-21T08:20:30.548Z"
   },
   {
    "duration": 32,
    "start_time": "2021-06-21T08:20:30.628Z"
   },
   {
    "duration": 258,
    "start_time": "2021-06-21T08:20:30.664Z"
   },
   {
    "duration": 8,
    "start_time": "2021-06-21T08:20:30.924Z"
   },
   {
    "duration": 7,
    "start_time": "2021-06-21T08:20:30.955Z"
   },
   {
    "duration": 21,
    "start_time": "2021-06-21T08:20:30.966Z"
   },
   {
    "duration": 18,
    "start_time": "2021-06-21T08:20:30.990Z"
   },
   {
    "duration": 24,
    "start_time": "2021-06-21T08:20:31.011Z"
   },
   {
    "duration": 24,
    "start_time": "2021-06-21T08:20:31.038Z"
   },
   {
    "duration": 789,
    "start_time": "2021-06-21T08:20:31.065Z"
   },
   {
    "duration": 135290,
    "start_time": "2021-06-21T08:20:31.857Z"
   },
   {
    "duration": 1843,
    "start_time": "2021-06-21T08:22:47.149Z"
   },
   {
    "duration": 27,
    "start_time": "2021-06-21T08:22:48.995Z"
   },
   {
    "duration": 826,
    "start_time": "2021-06-21T08:22:49.024Z"
   },
   {
    "duration": 911,
    "start_time": "2021-06-21T08:22:49.855Z"
   },
   {
    "duration": 10,
    "start_time": "2021-06-21T08:22:50.768Z"
   },
   {
    "duration": 472,
    "start_time": "2021-06-21T16:15:22.373Z"
   },
   {
    "duration": 1561,
    "start_time": "2021-06-21T16:15:28.042Z"
   },
   {
    "duration": 137,
    "start_time": "2021-06-21T16:15:29.606Z"
   },
   {
    "duration": 22,
    "start_time": "2021-06-21T16:15:29.746Z"
   },
   {
    "duration": 9,
    "start_time": "2021-06-21T16:15:29.770Z"
   },
   {
    "duration": 43,
    "start_time": "2021-06-21T16:15:29.782Z"
   },
   {
    "duration": 74,
    "start_time": "2021-06-21T16:15:29.960Z"
   },
   {
    "duration": 23,
    "start_time": "2021-06-21T16:15:32.398Z"
   },
   {
    "duration": 433,
    "start_time": "2021-06-21T16:15:33.763Z"
   },
   {
    "duration": 342,
    "start_time": "2021-06-21T16:17:54.456Z"
   },
   {
    "duration": 336,
    "start_time": "2021-06-21T16:18:01.536Z"
   },
   {
    "duration": 436,
    "start_time": "2021-06-21T16:18:25.345Z"
   },
   {
    "duration": 350,
    "start_time": "2021-06-21T16:19:11.978Z"
   },
   {
    "duration": 346,
    "start_time": "2021-06-21T16:20:26.445Z"
   },
   {
    "duration": 416,
    "start_time": "2021-06-21T16:20:29.928Z"
   },
   {
    "duration": 359,
    "start_time": "2021-06-21T16:24:34.594Z"
   },
   {
    "duration": 364,
    "start_time": "2021-06-21T16:24:34.956Z"
   },
   {
    "duration": 361,
    "start_time": "2021-06-21T16:38:53.929Z"
   },
   {
    "duration": 496,
    "start_time": "2021-06-21T16:38:54.293Z"
   },
   {
    "duration": 338,
    "start_time": "2021-06-21T16:43:58.674Z"
   },
   {
    "duration": 342,
    "start_time": "2021-06-21T16:43:59.183Z"
   },
   {
    "duration": 352,
    "start_time": "2021-06-21T16:48:44.585Z"
   },
   {
    "duration": 371,
    "start_time": "2021-06-21T16:48:44.939Z"
   },
   {
    "duration": 349,
    "start_time": "2021-06-21T16:50:37.540Z"
   },
   {
    "duration": 414,
    "start_time": "2021-06-21T16:55:24.050Z"
   },
   {
    "duration": 46,
    "start_time": "2021-06-21T16:55:28.198Z"
   },
   {
    "duration": 6,
    "start_time": "2021-06-21T16:55:28.972Z"
   },
   {
    "duration": 11,
    "start_time": "2021-06-21T16:55:30.942Z"
   },
   {
    "duration": 173,
    "start_time": "2021-06-21T16:55:33.723Z"
   },
   {
    "duration": 15,
    "start_time": "2021-06-21T16:55:37.245Z"
   },
   {
    "duration": 83,
    "start_time": "2021-06-21T16:55:38.626Z"
   },
   {
    "duration": 58,
    "start_time": "2021-06-21T17:00:10.964Z"
   },
   {
    "duration": 9,
    "start_time": "2021-06-21T17:00:18.822Z"
   },
   {
    "duration": 8,
    "start_time": "2021-06-21T17:00:21.402Z"
   },
   {
    "duration": 14,
    "start_time": "2021-06-21T17:00:23.689Z"
   },
   {
    "duration": 10,
    "start_time": "2021-06-21T17:00:24.428Z"
   },
   {
    "duration": 12,
    "start_time": "2021-06-21T17:00:41.688Z"
   },
   {
    "duration": 8,
    "start_time": "2021-06-21T17:01:23.232Z"
   },
   {
    "duration": 803,
    "start_time": "2021-06-21T17:01:23.627Z"
   },
   {
    "duration": 140918,
    "start_time": "2021-06-21T17:03:45.389Z"
   },
   {
    "duration": 1904,
    "start_time": "2021-06-21T17:07:50.223Z"
   },
   {
    "duration": 30,
    "start_time": "2021-06-21T17:07:53.071Z"
   },
   {
    "duration": 350,
    "start_time": "2021-06-21T17:18:52.886Z"
   },
   {
    "duration": 282,
    "start_time": "2021-06-21T17:19:19.153Z"
   },
   {
    "duration": 272,
    "start_time": "2021-06-21T17:20:02.206Z"
   },
   {
    "duration": 221,
    "start_time": "2021-06-21T17:20:12.915Z"
   },
   {
    "duration": 212,
    "start_time": "2021-06-21T17:21:00.902Z"
   },
   {
    "duration": 402,
    "start_time": "2021-06-21T17:21:11.421Z"
   },
   {
    "duration": 385,
    "start_time": "2021-06-21T17:21:48.952Z"
   },
   {
    "duration": 324,
    "start_time": "2021-06-21T17:22:05.978Z"
   },
   {
    "duration": 655,
    "start_time": "2021-06-21T17:22:28.945Z"
   },
   {
    "duration": 292,
    "start_time": "2021-06-21T17:23:49.166Z"
   },
   {
    "duration": 400,
    "start_time": "2021-06-21T17:24:10.325Z"
   },
   {
    "duration": 392,
    "start_time": "2021-06-21T17:26:46.882Z"
   },
   {
    "duration": 321,
    "start_time": "2021-06-21T17:27:00.664Z"
   },
   {
    "duration": 396,
    "start_time": "2021-06-21T17:35:13.829Z"
   },
   {
    "duration": 547,
    "start_time": "2021-06-21T17:35:32.402Z"
   },
   {
    "duration": 787,
    "start_time": "2021-06-21T17:35:42.543Z"
   },
   {
    "duration": 609,
    "start_time": "2021-06-21T17:35:55.202Z"
   },
   {
    "duration": 712,
    "start_time": "2021-06-21T17:36:10.616Z"
   },
   {
    "duration": 441,
    "start_time": "2021-06-21T17:36:17.935Z"
   },
   {
    "duration": 367,
    "start_time": "2021-06-21T17:36:48.596Z"
   },
   {
    "duration": 379,
    "start_time": "2021-06-21T17:37:28.032Z"
   },
   {
    "duration": 401,
    "start_time": "2021-06-21T17:38:57.005Z"
   },
   {
    "duration": 116,
    "start_time": "2021-06-21T17:39:35.594Z"
   },
   {
    "duration": 401,
    "start_time": "2021-06-21T17:40:55.267Z"
   },
   {
    "duration": 651,
    "start_time": "2021-06-21T19:57:07.300Z"
   },
   {
    "duration": 1506,
    "start_time": "2021-06-21T19:57:15.860Z"
   },
   {
    "duration": 148,
    "start_time": "2021-06-21T19:57:17.368Z"
   },
   {
    "duration": 25,
    "start_time": "2021-06-21T19:57:17.520Z"
   },
   {
    "duration": 9,
    "start_time": "2021-06-21T19:57:17.548Z"
   },
   {
    "duration": 16,
    "start_time": "2021-06-21T19:57:17.956Z"
   },
   {
    "duration": 73,
    "start_time": "2021-06-21T19:57:20.561Z"
   },
   {
    "duration": 26,
    "start_time": "2021-06-21T19:57:20.638Z"
   },
   {
    "duration": 389,
    "start_time": "2021-06-21T19:57:20.667Z"
   },
   {
    "duration": 589,
    "start_time": "2021-06-21T19:57:21.060Z"
   },
   {
    "duration": 587,
    "start_time": "2021-06-21T19:57:21.652Z"
   },
   {
    "duration": 482,
    "start_time": "2021-06-21T19:57:22.242Z"
   },
   {
    "duration": 627,
    "start_time": "2021-06-21T19:57:22.727Z"
   },
   {
    "duration": 604,
    "start_time": "2021-06-21T19:57:23.357Z"
   },
   {
    "duration": 425,
    "start_time": "2021-06-21T19:57:23.964Z"
   },
   {
    "duration": 498,
    "start_time": "2021-06-21T19:57:24.393Z"
   },
   {
    "duration": 577,
    "start_time": "2021-06-21T19:57:24.902Z"
   },
   {
    "duration": 401,
    "start_time": "2021-06-21T19:57:25.482Z"
   },
   {
    "duration": 389,
    "start_time": "2021-06-21T19:57:25.886Z"
   },
   {
    "duration": 416,
    "start_time": "2021-06-21T19:57:26.278Z"
   },
   {
    "duration": 379,
    "start_time": "2021-06-21T19:57:26.700Z"
   },
   {
    "duration": 401,
    "start_time": "2021-06-21T19:57:27.084Z"
   },
   {
    "duration": 422,
    "start_time": "2021-06-21T19:57:27.487Z"
   },
   {
    "duration": 380,
    "start_time": "2021-06-21T19:57:27.912Z"
   },
   {
    "duration": 384,
    "start_time": "2021-06-21T19:57:28.295Z"
   },
   {
    "duration": 419,
    "start_time": "2021-06-21T19:57:28.681Z"
   },
   {
    "duration": 747,
    "start_time": "2021-06-21T19:57:29.103Z"
   },
   {
    "duration": 27,
    "start_time": "2021-06-21T19:57:29.852Z"
   },
   {
    "duration": 48,
    "start_time": "2021-06-21T19:57:30.104Z"
   },
   {
    "duration": 6,
    "start_time": "2021-06-21T19:57:30.433Z"
   },
   {
    "duration": 10,
    "start_time": "2021-06-21T19:57:31.430Z"
   },
   {
    "duration": 78,
    "start_time": "2021-06-21T19:57:32.068Z"
   },
   {
    "duration": 51,
    "start_time": "2021-06-21T19:57:32.149Z"
   },
   {
    "duration": 83,
    "start_time": "2021-06-21T19:57:32.412Z"
   },
   {
    "duration": 10,
    "start_time": "2021-06-21T19:57:33.097Z"
   },
   {
    "duration": 8,
    "start_time": "2021-06-21T19:57:33.728Z"
   },
   {
    "duration": 14,
    "start_time": "2021-06-21T19:57:34.144Z"
   },
   {
    "duration": 13,
    "start_time": "2021-06-21T19:57:34.214Z"
   },
   {
    "duration": 12,
    "start_time": "2021-06-21T19:57:34.637Z"
   },
   {
    "duration": 10,
    "start_time": "2021-06-21T19:57:35.245Z"
   },
   {
    "duration": 852,
    "start_time": "2021-06-21T19:57:35.304Z"
   },
   {
    "duration": 145026,
    "start_time": "2021-06-21T19:57:36.159Z"
   },
   {
    "duration": 1715,
    "start_time": "2021-06-21T20:00:01.188Z"
   },
   {
    "duration": 35,
    "start_time": "2021-06-21T20:00:02.909Z"
   },
   {
    "duration": 471,
    "start_time": "2021-06-21T20:00:02.947Z"
   },
   {
    "duration": 708,
    "start_time": "2021-06-21T20:00:03.421Z"
   },
   {
    "duration": 424,
    "start_time": "2021-06-21T20:00:04.133Z"
   },
   {
    "duration": 407,
    "start_time": "2021-06-21T20:00:04.560Z"
   },
   {
    "duration": 409,
    "start_time": "2021-06-21T20:00:04.970Z"
   },
   {
    "duration": 356,
    "start_time": "2021-06-21T20:00:05.382Z"
   },
   {
    "duration": 421,
    "start_time": "2021-06-21T20:01:42.660Z"
   },
   {
    "duration": 383,
    "start_time": "2021-06-21T20:02:01.111Z"
   },
   {
    "duration": 371,
    "start_time": "2021-06-21T20:02:46.915Z"
   },
   {
    "duration": 109,
    "start_time": "2021-06-21T20:03:22.220Z"
   },
   {
    "duration": 401,
    "start_time": "2021-06-21T20:03:40.321Z"
   },
   {
    "duration": 97,
    "start_time": "2021-06-21T20:14:58.082Z"
   },
   {
    "duration": 372,
    "start_time": "2021-06-21T20:20:51.128Z"
   },
   {
    "duration": 401,
    "start_time": "2021-06-21T20:25:30.092Z"
   },
   {
    "duration": 530,
    "start_time": "2021-06-21T20:26:41.173Z"
   },
   {
    "duration": 365,
    "start_time": "2021-06-21T20:27:10.726Z"
   },
   {
    "duration": 372,
    "start_time": "2021-06-21T20:29:05.866Z"
   },
   {
    "duration": 94,
    "start_time": "2021-06-21T20:29:42.804Z"
   },
   {
    "duration": 10,
    "start_time": "2021-06-21T20:29:49.934Z"
   },
   {
    "duration": 1434,
    "start_time": "2021-06-22T17:22:59.694Z"
   },
   {
    "duration": 166,
    "start_time": "2021-06-22T17:23:01.130Z"
   },
   {
    "duration": 21,
    "start_time": "2021-06-22T17:23:01.299Z"
   },
   {
    "duration": 21,
    "start_time": "2021-06-22T17:23:01.323Z"
   },
   {
    "duration": 25,
    "start_time": "2021-06-22T17:23:01.347Z"
   },
   {
    "duration": 84,
    "start_time": "2021-06-22T17:23:01.375Z"
   },
   {
    "duration": 23,
    "start_time": "2021-06-22T17:23:01.461Z"
   },
   {
    "duration": 347,
    "start_time": "2021-06-22T17:23:01.488Z"
   },
   {
    "duration": 334,
    "start_time": "2021-06-22T17:23:01.838Z"
   },
   {
    "duration": 342,
    "start_time": "2021-06-22T17:23:02.175Z"
   },
   {
    "duration": 347,
    "start_time": "2021-06-22T17:23:02.520Z"
   },
   {
    "duration": 357,
    "start_time": "2021-06-22T17:23:02.870Z"
   },
   {
    "duration": 353,
    "start_time": "2021-06-22T17:23:03.230Z"
   },
   {
    "duration": 340,
    "start_time": "2021-06-22T17:23:03.585Z"
   },
   {
    "duration": 421,
    "start_time": "2021-06-22T17:23:03.927Z"
   },
   {
    "duration": 341,
    "start_time": "2021-06-22T17:23:04.350Z"
   },
   {
    "duration": 340,
    "start_time": "2021-06-22T17:23:04.694Z"
   },
   {
    "duration": 409,
    "start_time": "2021-06-22T17:23:05.036Z"
   },
   {
    "duration": 344,
    "start_time": "2021-06-22T17:23:05.447Z"
   },
   {
    "duration": 330,
    "start_time": "2021-06-22T17:23:05.793Z"
   },
   {
    "duration": 492,
    "start_time": "2021-06-22T17:23:06.125Z"
   },
   {
    "duration": 370,
    "start_time": "2021-06-22T17:23:06.619Z"
   },
   {
    "duration": 367,
    "start_time": "2021-06-22T17:23:06.994Z"
   },
   {
    "duration": 327,
    "start_time": "2021-06-22T17:23:07.365Z"
   },
   {
    "duration": 362,
    "start_time": "2021-06-22T17:23:07.694Z"
   },
   {
    "duration": 679,
    "start_time": "2021-06-22T17:23:08.058Z"
   },
   {
    "duration": 32,
    "start_time": "2021-06-22T17:23:08.740Z"
   },
   {
    "duration": 36,
    "start_time": "2021-06-22T17:23:08.774Z"
   },
   {
    "duration": 5,
    "start_time": "2021-06-22T17:23:08.812Z"
   },
   {
    "duration": 39,
    "start_time": "2021-06-22T17:23:08.819Z"
   },
   {
    "duration": 69,
    "start_time": "2021-06-22T17:23:08.860Z"
   },
   {
    "duration": 26,
    "start_time": "2021-06-22T17:23:08.931Z"
   },
   {
    "duration": 263,
    "start_time": "2021-06-22T17:23:08.961Z"
   },
   {
    "duration": 8,
    "start_time": "2021-06-22T17:23:09.226Z"
   },
   {
    "duration": 20,
    "start_time": "2021-06-22T17:23:09.236Z"
   },
   {
    "duration": 8,
    "start_time": "2021-06-22T17:23:09.258Z"
   },
   {
    "duration": 11,
    "start_time": "2021-06-22T17:23:09.268Z"
   },
   {
    "duration": 11,
    "start_time": "2021-06-22T17:23:09.282Z"
   },
   {
    "duration": 8,
    "start_time": "2021-06-22T17:23:09.296Z"
   },
   {
    "duration": 820,
    "start_time": "2021-06-22T17:23:09.306Z"
   },
   {
    "duration": 131943,
    "start_time": "2021-06-22T17:23:10.128Z"
   },
   {
    "duration": 2084,
    "start_time": "2021-06-22T17:25:22.073Z"
   },
   {
    "duration": 26,
    "start_time": "2021-06-22T17:25:24.159Z"
   },
   {
    "duration": 368,
    "start_time": "2021-06-22T17:25:24.187Z"
   },
   {
    "duration": 361,
    "start_time": "2021-06-22T17:25:24.558Z"
   },
   {
    "duration": 354,
    "start_time": "2021-06-22T17:25:24.922Z"
   },
   {
    "duration": 381,
    "start_time": "2021-06-22T17:25:25.278Z"
   },
   {
    "duration": 387,
    "start_time": "2021-06-22T17:25:25.661Z"
   },
   {
    "duration": 367,
    "start_time": "2021-06-22T17:25:26.050Z"
   },
   {
    "duration": 358,
    "start_time": "2021-06-22T17:25:26.419Z"
   },
   {
    "duration": 363,
    "start_time": "2021-06-22T17:25:26.779Z"
   },
   {
    "duration": 364,
    "start_time": "2021-06-22T17:25:27.144Z"
   },
   {
    "duration": 376,
    "start_time": "2021-06-22T17:25:27.511Z"
   },
   {
    "duration": 352,
    "start_time": "2021-06-22T17:25:27.889Z"
   },
   {
    "duration": 17,
    "start_time": "2021-06-22T17:25:28.244Z"
   },
   {
    "duration": 137,
    "start_time": "2021-06-22T20:18:52.420Z"
   },
   {
    "duration": 21,
    "start_time": "2021-06-22T20:18:52.560Z"
   },
   {
    "duration": 11,
    "start_time": "2021-06-22T20:18:52.584Z"
   },
   {
    "duration": 12,
    "start_time": "2021-06-22T20:18:52.597Z"
   },
   {
    "duration": 98,
    "start_time": "2021-06-22T20:18:52.611Z"
   },
   {
    "duration": 21,
    "start_time": "2021-06-22T20:18:52.711Z"
   },
   {
    "duration": 358,
    "start_time": "2021-06-22T20:18:52.736Z"
   },
   {
    "duration": 329,
    "start_time": "2021-06-22T20:18:53.098Z"
   },
   {
    "duration": 344,
    "start_time": "2021-06-22T20:18:53.431Z"
   },
   {
    "duration": 351,
    "start_time": "2021-06-22T20:18:53.777Z"
   },
   {
    "duration": 350,
    "start_time": "2021-06-22T20:18:54.131Z"
   },
   {
    "duration": 344,
    "start_time": "2021-06-22T20:18:54.483Z"
   },
   {
    "duration": 346,
    "start_time": "2021-06-22T20:18:54.829Z"
   },
   {
    "duration": 441,
    "start_time": "2021-06-22T20:18:55.178Z"
   },
   {
    "duration": 345,
    "start_time": "2021-06-22T20:18:55.621Z"
   },
   {
    "duration": 342,
    "start_time": "2021-06-22T20:18:55.969Z"
   },
   {
    "duration": 346,
    "start_time": "2021-06-22T20:18:56.313Z"
   },
   {
    "duration": 340,
    "start_time": "2021-06-22T20:18:56.661Z"
   },
   {
    "duration": 335,
    "start_time": "2021-06-22T20:18:57.004Z"
   },
   {
    "duration": 357,
    "start_time": "2021-06-22T20:18:57.341Z"
   },
   {
    "duration": 349,
    "start_time": "2021-06-22T20:18:57.701Z"
   },
   {
    "duration": 335,
    "start_time": "2021-06-22T20:18:58.060Z"
   },
   {
    "duration": 339,
    "start_time": "2021-06-22T20:18:58.398Z"
   },
   {
    "duration": 378,
    "start_time": "2021-06-22T20:18:58.739Z"
   },
   {
    "duration": 730,
    "start_time": "2021-06-22T20:18:59.120Z"
   },
   {
    "duration": 26,
    "start_time": "2021-06-22T20:18:59.852Z"
   },
   {
    "duration": 9,
    "start_time": "2021-06-22T20:18:59.881Z"
   },
   {
    "duration": 8,
    "start_time": "2021-06-22T20:18:59.892Z"
   },
   {
    "duration": 103,
    "start_time": "2021-06-22T20:19:14.342Z"
   },
   {
    "duration": 17,
    "start_time": "2021-06-22T20:19:15.659Z"
   },
   {
    "duration": 12,
    "start_time": "2021-06-22T20:19:15.679Z"
   },
   {
    "duration": 15,
    "start_time": "2021-06-22T20:19:15.694Z"
   },
   {
    "duration": 71,
    "start_time": "2021-06-22T20:19:16.581Z"
   },
   {
    "duration": 25,
    "start_time": "2021-06-22T20:19:17.693Z"
   },
   {
    "duration": 325,
    "start_time": "2021-06-22T20:19:17.865Z"
   },
   {
    "duration": 343,
    "start_time": "2021-06-22T20:19:18.193Z"
   },
   {
    "duration": 340,
    "start_time": "2021-06-22T20:19:18.540Z"
   },
   {
    "duration": 351,
    "start_time": "2021-06-22T20:19:18.883Z"
   },
   {
    "duration": 351,
    "start_time": "2021-06-22T20:19:19.236Z"
   },
   {
    "duration": 349,
    "start_time": "2021-06-22T20:19:19.590Z"
   },
   {
    "duration": 337,
    "start_time": "2021-06-22T20:19:19.941Z"
   },
   {
    "duration": 345,
    "start_time": "2021-06-22T20:19:20.281Z"
   },
   {
    "duration": 332,
    "start_time": "2021-06-22T20:19:20.628Z"
   },
   {
    "duration": 349,
    "start_time": "2021-06-22T20:19:20.962Z"
   },
   {
    "duration": 425,
    "start_time": "2021-06-22T20:19:21.313Z"
   },
   {
    "duration": 348,
    "start_time": "2021-06-22T20:19:21.740Z"
   },
   {
    "duration": 341,
    "start_time": "2021-06-22T20:19:22.091Z"
   },
   {
    "duration": 353,
    "start_time": "2021-06-22T20:19:22.434Z"
   },
   {
    "duration": 356,
    "start_time": "2021-06-22T20:19:22.789Z"
   },
   {
    "duration": 345,
    "start_time": "2021-06-22T20:19:23.147Z"
   },
   {
    "duration": 344,
    "start_time": "2021-06-22T20:19:23.496Z"
   },
   {
    "duration": 365,
    "start_time": "2021-06-22T20:19:23.843Z"
   },
   {
    "duration": 620,
    "start_time": "2021-06-22T20:19:24.210Z"
   },
   {
    "duration": 32,
    "start_time": "2021-06-22T20:19:24.832Z"
   },
   {
    "duration": 5,
    "start_time": "2021-06-22T20:19:24.867Z"
   },
   {
    "duration": 44,
    "start_time": "2021-06-22T20:19:29.511Z"
   },
   {
    "duration": 5,
    "start_time": "2021-06-22T20:20:39.517Z"
   },
   {
    "duration": 10,
    "start_time": "2021-06-22T20:20:40.385Z"
   },
   {
    "duration": 58,
    "start_time": "2021-06-22T20:20:40.641Z"
   },
   {
    "duration": 6,
    "start_time": "2021-06-22T20:20:41.383Z"
   },
   {
    "duration": 76,
    "start_time": "2021-06-22T20:20:41.903Z"
   },
   {
    "duration": 9,
    "start_time": "2021-06-22T20:20:42.999Z"
   },
   {
    "duration": 7,
    "start_time": "2021-06-22T20:20:43.446Z"
   },
   {
    "duration": 9,
    "start_time": "2021-06-22T20:20:43.882Z"
   },
   {
    "duration": 10,
    "start_time": "2021-06-22T20:20:44.390Z"
   },
   {
    "duration": 12,
    "start_time": "2021-06-22T20:20:46.604Z"
   },
   {
    "duration": 9,
    "start_time": "2021-06-22T20:20:48.031Z"
   },
   {
    "duration": 743,
    "start_time": "2021-06-22T20:20:48.939Z"
   },
   {
    "duration": 138227,
    "start_time": "2021-06-22T20:20:49.743Z"
   },
   {
    "duration": 1784,
    "start_time": "2021-06-22T20:23:07.972Z"
   },
   {
    "duration": 28,
    "start_time": "2021-06-22T20:23:09.759Z"
   },
   {
    "duration": 374,
    "start_time": "2021-06-22T20:23:24.050Z"
   },
   {
    "duration": 383,
    "start_time": "2021-06-22T20:23:25.754Z"
   },
   {
    "duration": 366,
    "start_time": "2021-06-22T20:23:26.393Z"
   },
   {
    "duration": 385,
    "start_time": "2021-06-22T20:23:28.455Z"
   },
   {
    "duration": 873,
    "start_time": "2021-06-22T20:36:08.987Z"
   },
   {
    "duration": 348,
    "start_time": "2021-06-22T20:36:27.450Z"
   },
   {
    "duration": 812,
    "start_time": "2021-06-22T20:36:33.330Z"
   },
   {
    "duration": 1566,
    "start_time": "2021-06-22T20:36:52.571Z"
   },
   {
    "duration": 805,
    "start_time": "2021-06-22T20:37:21.086Z"
   },
   {
    "duration": 1514,
    "start_time": "2021-06-22T20:37:38.054Z"
   },
   {
    "duration": 698,
    "start_time": "2021-06-22T20:37:50.520Z"
   },
   {
    "duration": 356,
    "start_time": "2021-06-22T20:39:12.628Z"
   },
   {
    "duration": 594,
    "start_time": "2021-06-22T20:39:26.308Z"
   },
   {
    "duration": 826,
    "start_time": "2021-06-22T20:39:44.829Z"
   },
   {
    "duration": 563,
    "start_time": "2021-06-22T20:39:54.270Z"
   },
   {
    "duration": 345,
    "start_time": "2021-06-22T20:40:07.163Z"
   },
   {
    "duration": 798,
    "start_time": "2021-06-22T20:40:46.448Z"
   },
   {
    "duration": 1151,
    "start_time": "2021-06-22T20:41:02.725Z"
   },
   {
    "duration": 357,
    "start_time": "2021-06-22T20:41:26.702Z"
   },
   {
    "duration": 6930,
    "start_time": "2021-06-22T21:02:09.595Z"
   },
   {
    "duration": 3,
    "start_time": "2021-06-22T21:02:23.855Z"
   },
   {
    "duration": 105,
    "start_time": "2021-06-22T21:02:25.051Z"
   },
   {
    "duration": 17,
    "start_time": "2021-06-22T21:02:25.231Z"
   },
   {
    "duration": 10,
    "start_time": "2021-06-22T21:02:33.921Z"
   },
   {
    "duration": 13,
    "start_time": "2021-06-22T21:02:34.885Z"
   },
   {
    "duration": 73,
    "start_time": "2021-06-22T21:02:35.944Z"
   },
   {
    "duration": 25,
    "start_time": "2021-06-22T21:02:37.903Z"
   },
   {
    "duration": 436,
    "start_time": "2021-06-22T21:02:38.895Z"
   },
   {
    "duration": 346,
    "start_time": "2021-06-22T21:02:39.333Z"
   },
   {
    "duration": 341,
    "start_time": "2021-06-22T21:02:40.159Z"
   },
   {
    "duration": 348,
    "start_time": "2021-06-22T21:02:40.699Z"
   },
   {
    "duration": 334,
    "start_time": "2021-06-22T21:02:41.583Z"
   },
   {
    "duration": 336,
    "start_time": "2021-06-22T21:02:42.019Z"
   },
   {
    "duration": 327,
    "start_time": "2021-06-22T21:02:42.785Z"
   },
   {
    "duration": 333,
    "start_time": "2021-06-22T21:02:43.151Z"
   },
   {
    "duration": 414,
    "start_time": "2021-06-22T21:02:43.942Z"
   },
   {
    "duration": 333,
    "start_time": "2021-06-22T21:02:44.433Z"
   },
   {
    "duration": 328,
    "start_time": "2021-06-22T21:02:45.420Z"
   },
   {
    "duration": 323,
    "start_time": "2021-06-22T21:02:45.837Z"
   },
   {
    "duration": 4,
    "start_time": "2021-06-22T21:10:42.572Z"
   },
   {
    "duration": 110,
    "start_time": "2021-06-22T21:10:43.027Z"
   },
   {
    "duration": 17,
    "start_time": "2021-06-22T21:10:44.021Z"
   },
   {
    "duration": 8,
    "start_time": "2021-06-22T21:10:45.070Z"
   },
   {
    "duration": 13,
    "start_time": "2021-06-22T21:10:45.695Z"
   },
   {
    "duration": 70,
    "start_time": "2021-06-22T21:10:46.487Z"
   },
   {
    "duration": 25,
    "start_time": "2021-06-22T21:10:47.489Z"
   },
   {
    "duration": 328,
    "start_time": "2021-06-22T21:10:48.089Z"
   },
   {
    "duration": 345,
    "start_time": "2021-06-22T21:10:48.420Z"
   },
   {
    "duration": 347,
    "start_time": "2021-06-22T21:10:48.768Z"
   },
   {
    "duration": 461,
    "start_time": "2021-06-22T21:10:49.117Z"
   },
   {
    "duration": 388,
    "start_time": "2021-06-22T21:10:50.072Z"
   },
   {
    "duration": 494,
    "start_time": "2021-06-22T21:10:50.464Z"
   },
   {
    "duration": 398,
    "start_time": "2021-06-22T21:10:50.961Z"
   },
   {
    "duration": 390,
    "start_time": "2021-06-22T21:10:51.362Z"
   },
   {
    "duration": 351,
    "start_time": "2021-06-22T21:10:51.757Z"
   },
   {
    "duration": 455,
    "start_time": "2021-06-22T21:10:52.111Z"
   },
   {
    "duration": 353,
    "start_time": "2021-06-22T21:10:52.568Z"
   },
   {
    "duration": 342,
    "start_time": "2021-06-22T21:10:52.924Z"
   },
   {
    "duration": 331,
    "start_time": "2021-06-22T21:10:53.268Z"
   },
   {
    "duration": 363,
    "start_time": "2021-06-22T21:10:53.602Z"
   },
   {
    "duration": 437,
    "start_time": "2021-06-22T21:10:53.968Z"
   },
   {
    "duration": 352,
    "start_time": "2021-06-22T21:10:54.407Z"
   },
   {
    "duration": 341,
    "start_time": "2021-06-22T21:10:54.761Z"
   },
   {
    "duration": 374,
    "start_time": "2021-06-22T21:10:55.104Z"
   },
   {
    "duration": 607,
    "start_time": "2021-06-22T21:10:56.325Z"
   },
   {
    "duration": 35,
    "start_time": "2021-06-22T21:10:56.935Z"
   },
   {
    "duration": 5,
    "start_time": "2021-06-22T21:10:58.143Z"
   },
   {
    "duration": 3,
    "start_time": "2021-06-22T21:11:00.455Z"
   },
   {
    "duration": 5,
    "start_time": "2021-06-22T21:11:00.843Z"
   },
   {
    "duration": 10,
    "start_time": "2021-06-22T21:11:02.467Z"
   },
   {
    "duration": 54,
    "start_time": "2021-06-22T21:11:02.820Z"
   },
   {
    "duration": 13,
    "start_time": "2021-06-22T21:11:03.212Z"
   },
   {
    "duration": 53,
    "start_time": "2021-06-22T21:11:03.626Z"
   },
   {
    "duration": 10,
    "start_time": "2021-06-22T21:11:04.586Z"
   },
   {
    "duration": 6,
    "start_time": "2021-06-22T21:11:04.942Z"
   },
   {
    "duration": 10,
    "start_time": "2021-06-22T21:11:05.268Z"
   },
   {
    "duration": 10,
    "start_time": "2021-06-22T21:11:05.629Z"
   },
   {
    "duration": 12,
    "start_time": "2021-06-22T21:11:06.443Z"
   },
   {
    "duration": 9,
    "start_time": "2021-06-22T21:11:22.985Z"
   },
   {
    "duration": 753,
    "start_time": "2021-06-22T21:11:23.428Z"
   },
   {
    "duration": 132074,
    "start_time": "2021-06-22T21:11:24.184Z"
   },
   {
    "duration": 1700,
    "start_time": "2021-06-22T21:13:36.261Z"
   },
   {
    "duration": 25,
    "start_time": "2021-06-22T21:13:37.963Z"
   },
   {
    "duration": 1488,
    "start_time": "2021-06-24T14:43:42.295Z"
   },
   {
    "duration": 220,
    "start_time": "2021-06-24T14:44:11.903Z"
   },
   {
    "duration": 34,
    "start_time": "2021-06-24T14:44:12.903Z"
   },
   {
    "duration": 8,
    "start_time": "2021-06-24T14:44:14.870Z"
   },
   {
    "duration": 13,
    "start_time": "2021-06-24T14:44:17.913Z"
   },
   {
    "duration": 78,
    "start_time": "2021-06-24T14:44:20.363Z"
   },
   {
    "duration": 24,
    "start_time": "2021-06-24T14:44:20.774Z"
   },
   {
    "duration": 366,
    "start_time": "2021-06-24T14:44:20.964Z"
   },
   {
    "duration": 371,
    "start_time": "2021-06-24T14:44:21.333Z"
   },
   {
    "duration": 366,
    "start_time": "2021-06-24T14:44:21.707Z"
   },
   {
    "duration": 375,
    "start_time": "2021-06-24T14:44:22.076Z"
   },
   {
    "duration": 373,
    "start_time": "2021-06-24T14:44:23.043Z"
   },
   {
    "duration": 361,
    "start_time": "2021-06-24T14:44:23.681Z"
   },
   {
    "duration": 352,
    "start_time": "2021-06-24T14:44:24.899Z"
   },
   {
    "duration": 469,
    "start_time": "2021-06-24T14:44:25.623Z"
   },
   {
    "duration": 363,
    "start_time": "2021-06-24T14:44:27.401Z"
   },
   {
    "duration": 353,
    "start_time": "2021-06-24T14:44:49.211Z"
   },
   {
    "duration": 359,
    "start_time": "2021-06-24T14:44:50.061Z"
   },
   {
    "duration": 373,
    "start_time": "2021-06-24T14:44:50.681Z"
   },
   {
    "duration": 428,
    "start_time": "2021-06-24T14:44:51.848Z"
   },
   {
    "duration": 385,
    "start_time": "2021-06-24T14:44:52.449Z"
   },
   {
    "duration": 359,
    "start_time": "2021-06-24T14:44:54.032Z"
   },
   {
    "duration": 358,
    "start_time": "2021-06-24T14:44:54.830Z"
   },
   {
    "duration": 362,
    "start_time": "2021-06-24T14:44:56.162Z"
   },
   {
    "duration": 387,
    "start_time": "2021-06-24T14:44:56.766Z"
   },
   {
    "duration": 759,
    "start_time": "2021-06-24T14:44:59.568Z"
   },
   {
    "duration": 30,
    "start_time": "2021-06-24T14:45:00.507Z"
   },
   {
    "duration": 4,
    "start_time": "2021-06-24T14:45:02.374Z"
   },
   {
    "duration": 8047,
    "start_time": "2021-06-24T14:48:08.609Z"
   },
   {
    "duration": 638,
    "start_time": "2021-06-24T14:48:19.842Z"
   },
   {
    "duration": 37,
    "start_time": "2021-06-24T14:48:20.483Z"
   },
   {
    "duration": 7620,
    "start_time": "2021-06-24T14:48:20.554Z"
   },
   {
    "duration": 694,
    "start_time": "2021-06-24T14:48:27.483Z"
   },
   {
    "duration": 692,
    "start_time": "2021-06-24T14:48:27.487Z"
   },
   {
    "duration": 687,
    "start_time": "2021-06-24T14:48:27.493Z"
   },
   {
    "duration": 679,
    "start_time": "2021-06-24T14:48:27.503Z"
   },
   {
    "duration": 675,
    "start_time": "2021-06-24T14:48:27.508Z"
   },
   {
    "duration": 673,
    "start_time": "2021-06-24T14:48:27.512Z"
   },
   {
    "duration": 670,
    "start_time": "2021-06-24T14:48:27.516Z"
   },
   {
    "duration": 667,
    "start_time": "2021-06-24T14:48:27.520Z"
   },
   {
    "duration": 9,
    "start_time": "2021-06-24T14:48:28.283Z"
   },
   {
    "duration": 282,
    "start_time": "2021-06-24T14:48:28.294Z"
   },
   {
    "duration": 924,
    "start_time": "2021-06-24T14:48:27.654Z"
   },
   {
    "duration": 921,
    "start_time": "2021-06-24T14:48:27.659Z"
   },
   {
    "duration": 282,
    "start_time": "2021-06-24T14:48:29.063Z"
   },
   {
    "duration": 724,
    "start_time": "2021-06-24T14:48:30.147Z"
   },
   {
    "duration": 8283,
    "start_time": "2021-06-24T14:49:11.314Z"
   },
   {
    "duration": 4,
    "start_time": "2021-06-24T14:49:23.578Z"
   },
   {
    "duration": 117,
    "start_time": "2021-06-24T14:49:24.403Z"
   },
   {
    "duration": 27,
    "start_time": "2021-06-24T14:49:24.902Z"
   },
   {
    "duration": 8,
    "start_time": "2021-06-24T14:49:25.641Z"
   },
   {
    "duration": 16,
    "start_time": "2021-06-24T14:49:26.303Z"
   },
   {
    "duration": 76,
    "start_time": "2021-06-24T14:49:27.347Z"
   },
   {
    "duration": 26,
    "start_time": "2021-06-24T14:49:29.682Z"
   },
   {
    "duration": 362,
    "start_time": "2021-06-24T14:49:30.570Z"
   },
   {
    "duration": 368,
    "start_time": "2021-06-24T14:49:31.028Z"
   },
   {
    "duration": 358,
    "start_time": "2021-06-24T14:49:32.110Z"
   },
   {
    "duration": 365,
    "start_time": "2021-06-24T14:49:32.546Z"
   },
   {
    "duration": 386,
    "start_time": "2021-06-24T14:49:33.324Z"
   },
   {
    "duration": 382,
    "start_time": "2021-06-24T14:49:33.713Z"
   },
   {
    "duration": 372,
    "start_time": "2021-06-24T14:49:34.316Z"
   },
   {
    "duration": 471,
    "start_time": "2021-06-24T14:49:35.150Z"
   },
   {
    "duration": 374,
    "start_time": "2021-06-24T14:49:35.939Z"
   },
   {
    "duration": 372,
    "start_time": "2021-06-24T14:49:36.476Z"
   },
   {
    "duration": 383,
    "start_time": "2021-06-24T14:49:37.397Z"
   },
   {
    "duration": 379,
    "start_time": "2021-06-24T14:49:38.006Z"
   },
   {
    "duration": 370,
    "start_time": "2021-06-24T14:49:38.908Z"
   },
   {
    "duration": 404,
    "start_time": "2021-06-24T14:49:39.281Z"
   },
   {
    "duration": 379,
    "start_time": "2021-06-24T14:49:40.253Z"
   },
   {
    "duration": 380,
    "start_time": "2021-06-24T14:49:40.835Z"
   },
   {
    "duration": 372,
    "start_time": "2021-06-24T14:49:55.732Z"
   },
   {
    "duration": 471,
    "start_time": "2021-06-24T14:49:56.237Z"
   },
   {
    "duration": 754,
    "start_time": "2021-06-24T14:49:57.847Z"
   },
   {
    "duration": 29,
    "start_time": "2021-06-24T14:49:58.604Z"
   },
   {
    "duration": 5,
    "start_time": "2021-06-24T14:49:59.168Z"
   },
   {
    "duration": 49,
    "start_time": "2021-06-24T14:50:29.586Z"
   },
   {
    "duration": 6,
    "start_time": "2021-06-24T14:50:29.961Z"
   },
   {
    "duration": 10,
    "start_time": "2021-06-24T14:50:31.745Z"
   },
   {
    "duration": 80,
    "start_time": "2021-06-24T14:50:32.073Z"
   },
   {
    "duration": 14,
    "start_time": "2021-06-24T14:50:32.453Z"
   },
   {
    "duration": 75,
    "start_time": "2021-06-24T14:50:33.522Z"
   },
   {
    "duration": 10,
    "start_time": "2021-06-24T14:50:34.772Z"
   },
   {
    "duration": 6,
    "start_time": "2021-06-24T14:50:35.191Z"
   },
   {
    "duration": 9,
    "start_time": "2021-06-24T14:50:35.855Z"
   },
   {
    "duration": 12,
    "start_time": "2021-06-24T14:50:37.054Z"
   },
   {
    "duration": 11,
    "start_time": "2021-06-24T14:50:40.455Z"
   },
   {
    "duration": 9,
    "start_time": "2021-06-24T14:50:42.428Z"
   },
   {
    "duration": 796,
    "start_time": "2021-06-24T14:50:43.944Z"
   },
   {
    "duration": 141885,
    "start_time": "2021-06-24T14:50:45.806Z"
   },
   {
    "duration": 4,
    "start_time": "2021-06-24T14:57:06.779Z"
   },
   {
    "duration": 116,
    "start_time": "2021-06-24T14:57:06.785Z"
   },
   {
    "duration": 18,
    "start_time": "2021-06-24T14:57:06.904Z"
   },
   {
    "duration": 19,
    "start_time": "2021-06-24T14:57:06.925Z"
   },
   {
    "duration": 15,
    "start_time": "2021-06-24T14:57:06.947Z"
   },
   {
    "duration": 95,
    "start_time": "2021-06-24T14:57:06.964Z"
   },
   {
    "duration": 44,
    "start_time": "2021-06-24T14:57:07.062Z"
   },
   {
    "duration": 347,
    "start_time": "2021-06-24T14:57:07.109Z"
   },
   {
    "duration": 360,
    "start_time": "2021-06-24T14:57:07.458Z"
   },
   {
    "duration": 362,
    "start_time": "2021-06-24T14:57:07.821Z"
   },
   {
    "duration": 361,
    "start_time": "2021-06-24T14:57:08.185Z"
   },
   {
    "duration": 384,
    "start_time": "2021-06-24T14:57:08.550Z"
   },
   {
    "duration": 363,
    "start_time": "2021-06-24T14:57:08.937Z"
   },
   {
    "duration": 349,
    "start_time": "2021-06-24T14:57:09.303Z"
   },
   {
    "duration": 346,
    "start_time": "2021-06-24T14:57:09.655Z"
   },
   {
    "duration": 354,
    "start_time": "2021-06-24T14:57:10.004Z"
   },
   {
    "duration": 361,
    "start_time": "2021-06-24T14:57:10.361Z"
   },
   {
    "duration": 446,
    "start_time": "2021-06-24T14:57:10.727Z"
   },
   {
    "duration": 528,
    "start_time": "2021-06-24T14:57:11.177Z"
   },
   {
    "duration": 368,
    "start_time": "2021-06-24T14:57:11.708Z"
   },
   {
    "duration": 422,
    "start_time": "2021-06-24T14:57:12.079Z"
   },
   {
    "duration": 369,
    "start_time": "2021-06-24T14:57:12.503Z"
   },
   {
    "duration": 391,
    "start_time": "2021-06-24T14:57:12.876Z"
   },
   {
    "duration": 363,
    "start_time": "2021-06-24T14:57:13.270Z"
   },
   {
    "duration": 396,
    "start_time": "2021-06-24T14:57:13.636Z"
   },
   {
    "duration": 641,
    "start_time": "2021-06-24T14:57:14.035Z"
   },
   {
    "duration": 41,
    "start_time": "2021-06-24T14:57:14.679Z"
   },
   {
    "duration": 4,
    "start_time": "2021-06-24T14:57:14.724Z"
   },
   {
    "duration": 7,
    "start_time": "2021-06-24T14:57:14.730Z"
   },
   {
    "duration": 12,
    "start_time": "2021-06-24T14:57:14.739Z"
   },
   {
    "duration": 48,
    "start_time": "2021-06-24T14:57:14.753Z"
   },
   {
    "duration": 54,
    "start_time": "2021-06-24T14:57:14.804Z"
   },
   {
    "duration": 44,
    "start_time": "2021-06-24T14:57:14.861Z"
   },
   {
    "duration": 132,
    "start_time": "2021-06-24T14:57:15.000Z"
   },
   {
    "duration": 9,
    "start_time": "2021-06-24T14:57:19.173Z"
   },
   {
    "duration": 7,
    "start_time": "2021-06-24T14:57:19.545Z"
   },
   {
    "duration": 8,
    "start_time": "2021-06-24T14:57:19.897Z"
   },
   {
    "duration": 10,
    "start_time": "2021-06-24T14:57:22.495Z"
   },
   {
    "duration": 13,
    "start_time": "2021-06-24T14:57:23.129Z"
   },
   {
    "duration": 9,
    "start_time": "2021-06-24T14:57:24.129Z"
   },
   {
    "duration": 796,
    "start_time": "2021-06-24T14:57:24.480Z"
   },
   {
    "duration": 146850,
    "start_time": "2021-06-24T14:57:25.279Z"
   },
   {
    "duration": 1572,
    "start_time": "2021-06-24T14:59:52.132Z"
   },
   {
    "duration": 32,
    "start_time": "2021-06-24T14:59:53.707Z"
   },
   {
    "duration": 1010,
    "start_time": "2021-06-24T15:00:51.474Z"
   },
   {
    "duration": 551,
    "start_time": "2021-06-24T15:00:52.487Z"
   },
   {
    "duration": 1233,
    "start_time": "2021-06-24T15:12:40.367Z"
   },
   {
    "duration": 55773,
    "start_time": "2021-06-24T15:15:23.231Z"
   },
   {
    "duration": 1497,
    "start_time": "2021-06-25T09:52:04.187Z"
   },
   {
    "duration": 216,
    "start_time": "2021-06-25T09:52:05.687Z"
   },
   {
    "duration": 22,
    "start_time": "2021-06-25T09:52:05.905Z"
   },
   {
    "duration": 7,
    "start_time": "2021-06-25T09:52:09.077Z"
   },
   {
    "duration": 13,
    "start_time": "2021-06-25T09:52:09.644Z"
   },
   {
    "duration": 71,
    "start_time": "2021-06-25T09:52:09.906Z"
   },
   {
    "duration": 24,
    "start_time": "2021-06-25T09:52:10.324Z"
   },
   {
    "duration": 345,
    "start_time": "2021-06-25T09:52:10.485Z"
   },
   {
    "duration": 361,
    "start_time": "2021-06-25T09:52:10.833Z"
   },
   {
    "duration": 361,
    "start_time": "2021-06-25T09:52:11.197Z"
   },
   {
    "duration": 353,
    "start_time": "2021-06-25T09:52:11.561Z"
   },
   {
    "duration": 374,
    "start_time": "2021-06-25T09:52:11.916Z"
   },
   {
    "duration": 352,
    "start_time": "2021-06-25T09:52:12.293Z"
   },
   {
    "duration": 361,
    "start_time": "2021-06-25T09:52:12.647Z"
   },
   {
    "duration": 496,
    "start_time": "2021-06-25T09:52:13.012Z"
   },
   {
    "duration": 368,
    "start_time": "2021-06-25T09:52:13.511Z"
   },
   {
    "duration": 391,
    "start_time": "2021-06-25T09:52:13.881Z"
   },
   {
    "duration": 398,
    "start_time": "2021-06-25T09:52:14.274Z"
   },
   {
    "duration": 372,
    "start_time": "2021-06-25T09:52:14.675Z"
   },
   {
    "duration": 357,
    "start_time": "2021-06-25T09:52:15.049Z"
   },
   {
    "duration": 390,
    "start_time": "2021-06-25T09:52:15.408Z"
   },
   {
    "duration": 381,
    "start_time": "2021-06-25T09:52:15.801Z"
   },
   {
    "duration": 362,
    "start_time": "2021-06-25T09:52:16.184Z"
   },
   {
    "duration": 340,
    "start_time": "2021-06-25T09:52:16.548Z"
   },
   {
    "duration": 391,
    "start_time": "2021-06-25T09:52:16.891Z"
   },
   {
    "duration": 741,
    "start_time": "2021-06-25T09:52:17.285Z"
   },
   {
    "duration": 28,
    "start_time": "2021-06-25T09:52:18.030Z"
   },
   {
    "duration": 6,
    "start_time": "2021-06-25T09:52:18.061Z"
   },
   {
    "duration": 66,
    "start_time": "2021-06-25T09:52:18.070Z"
   },
   {
    "duration": 5,
    "start_time": "2021-06-25T09:52:18.139Z"
   },
   {
    "duration": 13,
    "start_time": "2021-06-25T09:52:18.146Z"
   },
   {
    "duration": 95,
    "start_time": "2021-06-25T09:52:18.161Z"
   },
   {
    "duration": 5,
    "start_time": "2021-06-25T09:52:18.258Z"
   },
   {
    "duration": 240,
    "start_time": "2021-06-25T09:52:18.265Z"
   },
   {
    "duration": 17,
    "start_time": "2021-06-25T09:52:18.507Z"
   },
   {
    "duration": 8,
    "start_time": "2021-06-25T09:52:18.527Z"
   },
   {
    "duration": 9,
    "start_time": "2021-06-25T09:52:18.538Z"
   },
   {
    "duration": 12,
    "start_time": "2021-06-25T09:52:18.550Z"
   },
   {
    "duration": 11,
    "start_time": "2021-06-25T09:52:18.797Z"
   },
   {
    "duration": 8,
    "start_time": "2021-06-25T09:52:19.542Z"
   },
   {
    "duration": 779,
    "start_time": "2021-06-25T09:52:19.724Z"
   },
   {
    "duration": 133036,
    "start_time": "2021-06-25T09:52:20.506Z"
   },
   {
    "duration": 1384,
    "start_time": "2021-06-25T09:54:33.545Z"
   },
   {
    "duration": 99,
    "start_time": "2021-06-25T09:54:34.932Z"
   },
   {
    "duration": 56091,
    "start_time": "2021-06-25T09:54:35.033Z"
   },
   {
    "duration": 1068,
    "start_time": "2021-06-25T09:55:31.127Z"
   },
   {
    "duration": 56131,
    "start_time": "2021-06-25T10:09:48.828Z"
   },
   {
    "duration": 382,
    "start_time": "2021-06-25T10:10:44.961Z"
   },
   {
    "duration": 412,
    "start_time": "2021-06-25T10:11:24.603Z"
   },
   {
    "duration": 106,
    "start_time": "2021-06-25T10:11:31.925Z"
   },
   {
    "duration": 336,
    "start_time": "2021-06-25T10:11:41.633Z"
   },
   {
    "duration": 850,
    "start_time": "2021-06-25T10:15:25.679Z"
   },
   {
    "duration": 291,
    "start_time": "2021-06-25T10:15:36.375Z"
   },
   {
    "duration": 13462,
    "start_time": "2021-06-25T10:19:52.365Z"
   },
   {
    "duration": 12552,
    "start_time": "2021-06-25T10:20:25.191Z"
   },
   {
    "duration": 12987,
    "start_time": "2021-06-25T10:20:52.566Z"
   },
   {
    "duration": 12522,
    "start_time": "2021-06-25T10:22:20.791Z"
   },
   {
    "duration": 12284,
    "start_time": "2021-06-25T10:26:39.555Z"
   },
   {
    "duration": 12887,
    "start_time": "2021-06-25T10:31:53.781Z"
   },
   {
    "duration": 1515,
    "start_time": "2021-06-27T19:41:48.794Z"
   },
   {
    "duration": 108,
    "start_time": "2021-06-27T19:41:50.311Z"
   },
   {
    "duration": 23,
    "start_time": "2021-06-27T19:41:50.422Z"
   },
   {
    "duration": 7,
    "start_time": "2021-06-27T19:41:50.448Z"
   },
   {
    "duration": 15,
    "start_time": "2021-06-27T19:41:50.457Z"
   },
   {
    "duration": 102,
    "start_time": "2021-06-27T19:41:50.474Z"
   },
   {
    "duration": 23,
    "start_time": "2021-06-27T19:41:50.706Z"
   },
   {
    "duration": 343,
    "start_time": "2021-06-27T19:41:50.934Z"
   },
   {
    "duration": 358,
    "start_time": "2021-06-27T19:41:51.279Z"
   },
   {
    "duration": 369,
    "start_time": "2021-06-27T19:41:51.640Z"
   },
   {
    "duration": 365,
    "start_time": "2021-06-27T19:41:52.011Z"
   },
   {
    "duration": 373,
    "start_time": "2021-06-27T19:41:52.379Z"
   },
   {
    "duration": 348,
    "start_time": "2021-06-27T19:41:53.295Z"
   },
   {
    "duration": 357,
    "start_time": "2021-06-27T19:41:53.645Z"
   },
   {
    "duration": 440,
    "start_time": "2021-06-27T19:41:54.005Z"
   },
   {
    "duration": 352,
    "start_time": "2021-06-27T19:41:54.448Z"
   },
   {
    "duration": 345,
    "start_time": "2021-06-27T19:41:55.386Z"
   },
   {
    "duration": 339,
    "start_time": "2021-06-27T19:41:55.758Z"
   },
   {
    "duration": 355,
    "start_time": "2021-06-27T19:41:56.100Z"
   },
   {
    "duration": 351,
    "start_time": "2021-06-27T19:41:56.458Z"
   },
   {
    "duration": 460,
    "start_time": "2021-06-27T19:41:56.899Z"
   },
   {
    "duration": 378,
    "start_time": "2021-06-27T19:41:57.362Z"
   },
   {
    "duration": 356,
    "start_time": "2021-06-27T19:41:57.743Z"
   },
   {
    "duration": 349,
    "start_time": "2021-06-27T19:41:58.109Z"
   },
   {
    "duration": 397,
    "start_time": "2021-06-27T19:41:58.461Z"
   },
   {
    "duration": 731,
    "start_time": "2021-06-27T19:41:58.861Z"
   },
   {
    "duration": 39,
    "start_time": "2021-06-27T19:41:59.594Z"
   },
   {
    "duration": 5,
    "start_time": "2021-06-27T19:41:59.636Z"
   },
   {
    "duration": 44,
    "start_time": "2021-06-27T19:42:07.684Z"
   },
   {
    "duration": 5,
    "start_time": "2021-06-27T19:42:07.730Z"
   },
   {
    "duration": 11,
    "start_time": "2021-06-27T19:42:07.738Z"
   },
   {
    "duration": 97,
    "start_time": "2021-06-27T19:42:07.752Z"
   },
   {
    "duration": 7,
    "start_time": "2021-06-27T19:42:07.851Z"
   },
   {
    "duration": 211,
    "start_time": "2021-06-27T19:42:07.861Z"
   },
   {
    "duration": 9,
    "start_time": "2021-06-27T19:42:08.074Z"
   },
   {
    "duration": 16,
    "start_time": "2021-06-27T19:42:08.109Z"
   },
   {
    "duration": 21,
    "start_time": "2021-06-27T19:42:08.128Z"
   },
   {
    "duration": 25,
    "start_time": "2021-06-27T19:42:08.151Z"
   },
   {
    "duration": 18,
    "start_time": "2021-06-27T19:42:08.179Z"
   },
   {
    "duration": 10,
    "start_time": "2021-06-27T19:42:08.199Z"
   },
   {
    "duration": 827,
    "start_time": "2021-06-27T19:42:08.211Z"
   },
   {
    "duration": 137375,
    "start_time": "2021-06-27T19:42:09.041Z"
   },
   {
    "duration": 2001,
    "start_time": "2021-06-27T19:44:26.418Z"
   },
   {
    "duration": 27,
    "start_time": "2021-06-27T19:44:28.422Z"
   },
   {
    "duration": 12598,
    "start_time": "2021-06-27T19:44:28.451Z"
   },
   {
    "duration": 447,
    "start_time": "2021-06-27T19:44:41.052Z"
   },
   {
    "duration": 369,
    "start_time": "2021-06-27T19:44:41.502Z"
   },
   {
    "duration": 12965,
    "start_time": "2021-06-27T19:46:19.837Z"
   },
   {
    "duration": 12924,
    "start_time": "2021-06-27T19:47:56.412Z"
   },
   {
    "duration": 12839,
    "start_time": "2021-06-27T19:51:24.758Z"
   },
   {
    "duration": 829,
    "start_time": "2021-06-27T19:52:18.789Z"
   },
   {
    "duration": 12859,
    "start_time": "2021-06-27T19:52:32.661Z"
   },
   {
    "duration": 12849,
    "start_time": "2021-06-27T19:53:31.560Z"
   },
   {
    "duration": 400,
    "start_time": "2021-06-27T19:53:44.412Z"
   },
   {
    "duration": 12425,
    "start_time": "2021-06-27T19:57:31.743Z"
   },
   {
    "duration": 12993,
    "start_time": "2021-06-27T19:59:18.365Z"
   },
   {
    "duration": 406,
    "start_time": "2021-06-27T19:59:31.362Z"
   },
   {
    "duration": 6,
    "start_time": "2021-06-27T20:13:38.606Z"
   },
   {
    "duration": 372,
    "start_time": "2021-06-27T20:13:40.599Z"
   },
   {
    "duration": 421,
    "start_time": "2021-06-27T20:14:25.845Z"
   },
   {
    "duration": 4,
    "start_time": "2021-06-27T20:14:44.105Z"
   },
   {
    "duration": 50,
    "start_time": "2021-06-27T20:14:44.257Z"
   },
   {
    "duration": 18,
    "start_time": "2021-06-27T20:14:44.471Z"
   },
   {
    "duration": 8,
    "start_time": "2021-06-27T20:14:45.035Z"
   },
   {
    "duration": 14,
    "start_time": "2021-06-27T20:14:45.417Z"
   },
   {
    "duration": 75,
    "start_time": "2021-06-27T20:14:46.194Z"
   },
   {
    "duration": 26,
    "start_time": "2021-06-27T20:14:47.227Z"
   },
   {
    "duration": 358,
    "start_time": "2021-06-27T20:14:47.607Z"
   },
   {
    "duration": 576,
    "start_time": "2021-06-27T20:14:47.968Z"
   },
   {
    "duration": 613,
    "start_time": "2021-06-27T20:14:48.548Z"
   },
   {
    "duration": 365,
    "start_time": "2021-06-27T20:14:49.164Z"
   },
   {
    "duration": 850,
    "start_time": "2021-06-27T20:14:49.531Z"
   },
   {
    "duration": 357,
    "start_time": "2021-06-27T20:14:50.384Z"
   },
   {
    "duration": 359,
    "start_time": "2021-06-27T20:14:50.744Z"
   },
   {
    "duration": 350,
    "start_time": "2021-06-27T20:14:51.109Z"
   },
   {
    "duration": 358,
    "start_time": "2021-06-27T20:14:51.461Z"
   },
   {
    "duration": 367,
    "start_time": "2021-06-27T20:14:51.823Z"
   },
   {
    "duration": 371,
    "start_time": "2021-06-27T20:14:52.193Z"
   },
   {
    "duration": 372,
    "start_time": "2021-06-27T20:14:52.568Z"
   },
   {
    "duration": 355,
    "start_time": "2021-06-27T20:14:52.943Z"
   },
   {
    "duration": 378,
    "start_time": "2021-06-27T20:14:53.300Z"
   },
   {
    "duration": 376,
    "start_time": "2021-06-27T20:14:53.681Z"
   },
   {
    "duration": 472,
    "start_time": "2021-06-27T20:14:54.060Z"
   },
   {
    "duration": 376,
    "start_time": "2021-06-27T20:14:54.535Z"
   },
   {
    "duration": 391,
    "start_time": "2021-06-27T20:14:54.913Z"
   },
   {
    "duration": 618,
    "start_time": "2021-06-27T20:14:55.306Z"
   },
   {
    "duration": 26,
    "start_time": "2021-06-27T20:14:55.927Z"
   },
   {
    "duration": 7,
    "start_time": "2021-06-27T20:14:55.957Z"
   },
   {
    "duration": 7,
    "start_time": "2021-06-27T20:14:55.969Z"
   },
   {
    "duration": 34,
    "start_time": "2021-06-27T20:14:55.979Z"
   },
   {
    "duration": 10,
    "start_time": "2021-06-27T20:14:56.215Z"
   },
   {
    "duration": 57,
    "start_time": "2021-06-27T20:14:56.441Z"
   },
   {
    "duration": 89,
    "start_time": "2021-06-27T20:14:56.626Z"
   },
   {
    "duration": 57,
    "start_time": "2021-06-27T20:14:56.906Z"
   },
   {
    "duration": 10,
    "start_time": "2021-06-27T20:14:57.498Z"
   },
   {
    "duration": 7,
    "start_time": "2021-06-27T20:14:57.689Z"
   },
   {
    "duration": 9,
    "start_time": "2021-06-27T20:14:58.080Z"
   },
   {
    "duration": 10,
    "start_time": "2021-06-27T20:14:58.317Z"
   },
   {
    "duration": 14,
    "start_time": "2021-06-27T20:14:58.613Z"
   },
   {
    "duration": 11,
    "start_time": "2021-06-27T20:14:58.978Z"
   },
   {
    "duration": 1242,
    "start_time": "2021-06-27T20:14:59.155Z"
   },
   {
    "duration": 157608,
    "start_time": "2021-06-27T20:15:00.401Z"
   },
   {
    "duration": 1417,
    "start_time": "2021-06-27T20:17:38.013Z"
   },
   {
    "duration": 105,
    "start_time": "2021-06-27T20:17:39.434Z"
   },
   {
    "duration": 732,
    "start_time": "2021-06-27T20:17:39.542Z"
   },
   {
    "duration": 249,
    "start_time": "2021-06-27T20:31:14.902Z"
   },
   {
    "duration": 362,
    "start_time": "2021-06-27T20:31:49.899Z"
   },
   {
    "duration": 472,
    "start_time": "2021-06-27T20:32:26.941Z"
   },
   {
    "duration": 938,
    "start_time": "2021-06-27T20:32:48.881Z"
   },
   {
    "duration": 893,
    "start_time": "2021-06-27T20:33:00.608Z"
   },
   {
    "duration": 1436,
    "start_time": "2021-06-28T17:44:39.723Z"
   },
   {
    "duration": 211,
    "start_time": "2021-06-28T17:44:41.161Z"
   },
   {
    "duration": 31,
    "start_time": "2021-06-28T17:44:41.375Z"
   },
   {
    "duration": 8,
    "start_time": "2021-06-28T17:44:42.410Z"
   },
   {
    "duration": 13,
    "start_time": "2021-06-28T17:44:43.327Z"
   },
   {
    "duration": 70,
    "start_time": "2021-06-28T17:44:44.134Z"
   },
   {
    "duration": 25,
    "start_time": "2021-06-28T17:44:46.209Z"
   },
   {
    "duration": 341,
    "start_time": "2021-06-28T17:44:46.808Z"
   },
   {
    "duration": 339,
    "start_time": "2021-06-28T17:44:47.152Z"
   },
   {
    "duration": 331,
    "start_time": "2021-06-28T17:44:47.543Z"
   },
   {
    "duration": 332,
    "start_time": "2021-06-28T17:44:48.233Z"
   },
   {
    "duration": 347,
    "start_time": "2021-06-28T17:44:49.003Z"
   },
   {
    "duration": 335,
    "start_time": "2021-06-28T17:44:49.494Z"
   },
   {
    "duration": 329,
    "start_time": "2021-06-28T17:44:50.592Z"
   },
   {
    "duration": 426,
    "start_time": "2021-06-28T17:44:51.170Z"
   },
   {
    "duration": 327,
    "start_time": "2021-06-28T17:44:52.255Z"
   },
   {
    "duration": 340,
    "start_time": "2021-06-28T17:44:52.718Z"
   },
   {
    "duration": 334,
    "start_time": "2021-06-28T17:44:53.781Z"
   },
   {
    "duration": 353,
    "start_time": "2021-06-28T17:44:54.338Z"
   },
   {
    "duration": 347,
    "start_time": "2021-06-28T17:44:55.815Z"
   },
   {
    "duration": 362,
    "start_time": "2021-06-28T17:44:56.256Z"
   },
   {
    "duration": 359,
    "start_time": "2021-06-28T17:44:57.299Z"
   },
   {
    "duration": 354,
    "start_time": "2021-06-28T17:44:58.192Z"
   },
   {
    "duration": 341,
    "start_time": "2021-06-28T17:44:59.285Z"
   },
   {
    "duration": 371,
    "start_time": "2021-06-28T17:44:59.791Z"
   },
   {
    "duration": 764,
    "start_time": "2021-06-28T17:45:07.712Z"
   },
   {
    "duration": 27,
    "start_time": "2021-06-28T17:45:10.208Z"
   },
   {
    "duration": 4,
    "start_time": "2021-06-28T17:45:11.759Z"
   },
   {
    "duration": 41,
    "start_time": "2021-06-28T17:45:13.844Z"
   },
   {
    "duration": 5,
    "start_time": "2021-06-28T17:45:14.095Z"
   },
   {
    "duration": 9,
    "start_time": "2021-06-28T17:45:16.559Z"
   },
   {
    "duration": 75,
    "start_time": "2021-06-28T17:45:16.571Z"
   },
   {
    "duration": 17,
    "start_time": "2021-06-28T17:45:16.696Z"
   },
   {
    "duration": 167,
    "start_time": "2021-06-28T17:45:16.802Z"
   },
   {
    "duration": 8,
    "start_time": "2021-06-28T17:45:16.972Z"
   },
   {
    "duration": 7,
    "start_time": "2021-06-28T17:45:17.001Z"
   },
   {
    "duration": 11,
    "start_time": "2021-06-28T17:45:17.010Z"
   },
   {
    "duration": 11,
    "start_time": "2021-06-28T17:45:17.102Z"
   },
   {
    "duration": 14,
    "start_time": "2021-06-28T17:45:17.698Z"
   },
   {
    "duration": 10,
    "start_time": "2021-06-28T17:45:19.776Z"
   },
   {
    "duration": 838,
    "start_time": "2021-06-28T17:45:19.789Z"
   },
   {
    "duration": 138822,
    "start_time": "2021-06-28T17:45:21.681Z"
   },
   {
    "duration": 1760,
    "start_time": "2021-06-28T17:48:12.741Z"
   },
   {
    "duration": 27,
    "start_time": "2021-06-28T17:48:14.504Z"
   },
   {
    "duration": 374,
    "start_time": "2021-06-28T17:48:14.534Z"
   },
   {
    "duration": 997,
    "start_time": "2021-06-28T20:17:48.834Z"
   },
   {
    "duration": 111,
    "start_time": "2021-06-28T20:17:49.833Z"
   },
   {
    "duration": 14,
    "start_time": "2021-06-28T20:17:49.946Z"
   },
   {
    "duration": 6,
    "start_time": "2021-06-28T20:17:50.611Z"
   },
   {
    "duration": 8,
    "start_time": "2021-06-28T20:17:51.280Z"
   },
   {
    "duration": 44,
    "start_time": "2021-06-28T20:17:52.156Z"
   },
   {
    "duration": 16,
    "start_time": "2021-06-28T20:17:53.514Z"
   },
   {
    "duration": 214,
    "start_time": "2021-06-28T20:17:53.887Z"
   },
   {
    "duration": 217,
    "start_time": "2021-06-28T20:17:54.103Z"
   },
   {
    "duration": 207,
    "start_time": "2021-06-28T20:17:54.539Z"
   },
   {
    "duration": 213,
    "start_time": "2021-06-28T20:17:54.758Z"
   },
   {
    "duration": 228,
    "start_time": "2021-06-28T20:17:55.102Z"
   },
   {
    "duration": 228,
    "start_time": "2021-06-28T20:17:55.331Z"
   },
   {
    "duration": 223,
    "start_time": "2021-06-28T20:17:55.772Z"
   },
   {
    "duration": 291,
    "start_time": "2021-06-28T20:17:56.003Z"
   },
   {
    "duration": 205,
    "start_time": "2021-06-28T20:17:56.351Z"
   },
   {
    "duration": 218,
    "start_time": "2021-06-28T20:17:56.561Z"
   },
   {
    "duration": 214,
    "start_time": "2021-06-28T20:17:56.889Z"
   },
   {
    "duration": 232,
    "start_time": "2021-06-28T20:17:57.106Z"
   },
   {
    "duration": 205,
    "start_time": "2021-06-28T20:17:57.606Z"
   },
   {
    "duration": 224,
    "start_time": "2021-06-28T20:17:57.860Z"
   },
   {
    "duration": 214,
    "start_time": "2021-06-28T20:17:58.508Z"
   },
   {
    "duration": 205,
    "start_time": "2021-06-28T20:17:58.788Z"
   },
   {
    "duration": 214,
    "start_time": "2021-06-28T20:17:59.857Z"
   },
   {
    "duration": 238,
    "start_time": "2021-06-28T20:18:00.347Z"
   },
   {
    "duration": 535,
    "start_time": "2021-06-28T20:18:01.580Z"
   },
   {
    "duration": 18,
    "start_time": "2021-06-28T20:18:02.117Z"
   },
   {
    "duration": 3,
    "start_time": "2021-06-28T20:18:02.719Z"
   },
   {
    "duration": 29,
    "start_time": "2021-06-28T20:18:04.832Z"
   },
   {
    "duration": 4,
    "start_time": "2021-06-28T20:18:05.236Z"
   },
   {
    "duration": 8,
    "start_time": "2021-06-28T20:18:06.962Z"
   },
   {
    "duration": 41,
    "start_time": "2021-06-28T20:18:07.365Z"
   },
   {
    "duration": 7,
    "start_time": "2021-06-28T20:18:07.748Z"
   },
   {
    "duration": 52,
    "start_time": "2021-06-28T20:18:08.060Z"
   },
   {
    "duration": 6,
    "start_time": "2021-06-28T20:18:09.016Z"
   },
   {
    "duration": 5,
    "start_time": "2021-06-28T20:18:09.280Z"
   },
   {
    "duration": 8,
    "start_time": "2021-06-28T20:18:09.563Z"
   },
   {
    "duration": 8,
    "start_time": "2021-06-28T20:18:10.168Z"
   },
   {
    "duration": 8,
    "start_time": "2021-06-28T20:18:10.764Z"
   },
   {
    "duration": 6,
    "start_time": "2021-06-28T20:18:11.296Z"
   },
   {
    "duration": 531,
    "start_time": "2021-06-28T20:18:11.531Z"
   },
   {
    "duration": 85431,
    "start_time": "2021-06-28T20:18:12.065Z"
   },
   {
    "duration": 1288,
    "start_time": "2021-06-28T20:19:53.104Z"
   },
   {
    "duration": 100,
    "start_time": "2021-06-28T20:19:54.394Z"
   },
   {
    "duration": 225,
    "start_time": "2021-06-28T20:20:07.233Z"
   },
   {
    "duration": 704,
    "start_time": "2021-06-28T20:20:07.460Z"
   },
   {
    "duration": -78,
    "start_time": "2021-06-28T20:20:08.245Z"
   },
   {
    "duration": -80,
    "start_time": "2021-06-28T20:20:08.248Z"
   },
   {
    "duration": -82,
    "start_time": "2021-06-28T20:20:08.252Z"
   },
   {
    "duration": -85,
    "start_time": "2021-06-28T20:20:08.256Z"
   },
   {
    "duration": -80,
    "start_time": "2021-06-28T20:20:08.264Z"
   },
   {
    "duration": 354,
    "start_time": "2021-06-28T20:20:50.846Z"
   },
   {
    "duration": 201,
    "start_time": "2021-06-28T20:20:59.096Z"
   },
   {
    "duration": 469,
    "start_time": "2021-06-28T20:21:49.837Z"
   },
   {
    "duration": 234,
    "start_time": "2021-06-28T20:22:23.178Z"
   },
   {
    "duration": 4936,
    "start_time": "2021-06-28T20:22:52.778Z"
   },
   {
    "duration": 202,
    "start_time": "2021-06-28T20:23:03.758Z"
   },
   {
    "duration": 5337,
    "start_time": "2021-06-28T20:23:57.866Z"
   },
   {
    "duration": 197,
    "start_time": "2021-06-28T20:24:16.103Z"
   },
   {
    "duration": 379,
    "start_time": "2021-06-28T20:30:11.135Z"
   },
   {
    "duration": 196,
    "start_time": "2021-06-28T20:37:49.597Z"
   },
   {
    "duration": 4954,
    "start_time": "2021-06-28T20:37:57.430Z"
   },
   {
    "duration": 199,
    "start_time": "2021-06-28T20:38:03.691Z"
   },
   {
    "duration": 276,
    "start_time": "2021-06-28T20:39:57.003Z"
   },
   {
    "duration": 207,
    "start_time": "2021-06-28T20:43:52.081Z"
   },
   {
    "duration": 7491,
    "start_time": "2021-06-28T20:44:02.200Z"
   },
   {
    "duration": 192,
    "start_time": "2021-06-28T20:44:17.750Z"
   },
   {
    "duration": 4606,
    "start_time": "2021-06-28T20:44:28.140Z"
   },
   {
    "duration": 4561,
    "start_time": "2021-06-28T20:44:57.025Z"
   },
   {
    "duration": 5650,
    "start_time": "2021-06-28T20:45:13.578Z"
   },
   {
    "duration": 212,
    "start_time": "2021-06-28T20:45:32.975Z"
   },
   {
    "duration": 214,
    "start_time": "2021-06-28T20:45:39.719Z"
   },
   {
    "duration": 206,
    "start_time": "2021-06-28T20:47:51.958Z"
   },
   {
    "duration": 210,
    "start_time": "2021-06-28T20:47:55.944Z"
   },
   {
    "duration": 201,
    "start_time": "2021-06-28T20:48:07.709Z"
   },
   {
    "duration": 213,
    "start_time": "2021-06-28T20:48:13.277Z"
   },
   {
    "duration": 229,
    "start_time": "2021-06-28T20:48:21.981Z"
   },
   {
    "duration": 218,
    "start_time": "2021-06-28T20:48:27.074Z"
   },
   {
    "duration": 373,
    "start_time": "2021-07-04T22:26:10.870Z"
   },
   {
    "duration": 1649,
    "start_time": "2021-07-04T22:26:18.506Z"
   },
   {
    "duration": 149,
    "start_time": "2021-07-04T22:26:20.158Z"
   },
   {
    "duration": 36,
    "start_time": "2021-07-04T22:26:20.311Z"
   },
   {
    "duration": 11,
    "start_time": "2021-07-04T22:26:20.350Z"
   },
   {
    "duration": 21,
    "start_time": "2021-07-04T22:26:21.244Z"
   },
   {
    "duration": 80,
    "start_time": "2021-07-04T22:26:21.770Z"
   },
   {
    "duration": 25,
    "start_time": "2021-07-04T22:26:22.693Z"
   },
   {
    "duration": 356,
    "start_time": "2021-07-04T22:26:23.368Z"
   },
   {
    "duration": 370,
    "start_time": "2021-07-04T22:26:23.727Z"
   },
   {
    "duration": 380,
    "start_time": "2021-07-04T22:26:24.101Z"
   },
   {
    "duration": 378,
    "start_time": "2021-07-04T22:26:24.484Z"
   },
   {
    "duration": 378,
    "start_time": "2021-07-04T22:26:24.865Z"
   },
   {
    "duration": 371,
    "start_time": "2021-07-04T22:26:25.246Z"
   },
   {
    "duration": 366,
    "start_time": "2021-07-04T22:26:25.620Z"
   },
   {
    "duration": 460,
    "start_time": "2021-07-04T22:26:25.989Z"
   },
   {
    "duration": 547,
    "start_time": "2021-07-04T22:26:26.453Z"
   },
   {
    "duration": 371,
    "start_time": "2021-07-04T22:26:27.003Z"
   },
   {
    "duration": 389,
    "start_time": "2021-07-04T22:26:27.376Z"
   },
   {
    "duration": 372,
    "start_time": "2021-07-04T22:26:27.767Z"
   },
   {
    "duration": 366,
    "start_time": "2021-07-04T22:26:28.142Z"
   },
   {
    "duration": 381,
    "start_time": "2021-07-04T22:26:28.511Z"
   },
   {
    "duration": 372,
    "start_time": "2021-07-04T22:26:28.895Z"
   },
   {
    "duration": 364,
    "start_time": "2021-07-04T22:26:29.270Z"
   },
   {
    "duration": 357,
    "start_time": "2021-07-04T22:26:29.637Z"
   },
   {
    "duration": 391,
    "start_time": "2021-07-04T22:26:29.997Z"
   },
   {
    "duration": 738,
    "start_time": "2021-07-04T22:26:30.430Z"
   },
   {
    "duration": 30,
    "start_time": "2021-07-04T22:26:31.171Z"
   },
   {
    "duration": 9,
    "start_time": "2021-07-04T22:27:18.998Z"
   },
   {
    "duration": 46,
    "start_time": "2021-07-04T22:27:22.070Z"
   },
   {
    "duration": 5,
    "start_time": "2021-07-04T22:27:22.119Z"
   },
   {
    "duration": 11,
    "start_time": "2021-07-04T22:27:22.170Z"
   },
   {
    "duration": 91,
    "start_time": "2021-07-04T22:27:22.184Z"
   },
   {
    "duration": 94,
    "start_time": "2021-07-04T22:27:22.280Z"
   },
   {
    "duration": 162,
    "start_time": "2021-07-04T22:27:22.379Z"
   },
   {
    "duration": 28,
    "start_time": "2021-07-04T22:27:22.543Z"
   },
   {
    "duration": 7,
    "start_time": "2021-07-04T22:27:22.574Z"
   },
   {
    "duration": 16,
    "start_time": "2021-07-04T22:27:22.584Z"
   },
   {
    "duration": 13,
    "start_time": "2021-07-04T22:27:22.604Z"
   },
   {
    "duration": 57,
    "start_time": "2021-07-04T22:27:22.620Z"
   },
   {
    "duration": 10,
    "start_time": "2021-07-04T22:27:22.679Z"
   },
   {
    "duration": 1343,
    "start_time": "2021-07-04T22:27:22.692Z"
   },
   {
    "duration": 142217,
    "start_time": "2021-07-04T22:27:24.038Z"
   },
   {
    "duration": 2310,
    "start_time": "2021-07-04T22:36:21.967Z"
   },
   {
    "duration": 28,
    "start_time": "2021-07-04T22:36:24.280Z"
   },
   {
    "duration": 18,
    "start_time": "2021-07-04T22:36:46.271Z"
   },
   {
    "duration": 12,
    "start_time": "2021-07-04T22:37:10.712Z"
   },
   {
    "duration": 31,
    "start_time": "2021-07-04T22:37:15.719Z"
   },
   {
    "duration": 365,
    "start_time": "2021-07-04T22:37:32.489Z"
   },
   {
    "duration": 335,
    "start_time": "2021-07-04T22:37:42.041Z"
   },
   {
    "duration": 242,
    "start_time": "2021-07-04T22:37:58.999Z"
   },
   {
    "duration": 956,
    "start_time": "2021-07-04T22:38:06.790Z"
   },
   {
    "duration": 578,
    "start_time": "2021-07-04T22:38:21.684Z"
   },
   {
    "duration": 358,
    "start_time": "2021-07-04T22:38:27.848Z"
   },
   {
    "duration": 267,
    "start_time": "2021-07-04T22:38:37.387Z"
   },
   {
    "duration": 311,
    "start_time": "2021-07-04T22:38:51.165Z"
   },
   {
    "duration": 346,
    "start_time": "2021-07-04T22:39:00.467Z"
   },
   {
    "duration": 381,
    "start_time": "2021-07-04T22:39:14.159Z"
   },
   {
    "duration": 575,
    "start_time": "2021-07-04T22:39:56.422Z"
   },
   {
    "duration": 583,
    "start_time": "2021-07-04T22:40:00.532Z"
   },
   {
    "duration": 4380,
    "start_time": "2021-07-04T22:43:00.464Z"
   },
   {
    "duration": 10,
    "start_time": "2021-07-04T22:43:22.671Z"
   },
   {
    "duration": 345,
    "start_time": "2021-07-04T22:43:26.239Z"
   },
   {
    "duration": 1811,
    "start_time": "2021-07-04T22:43:32.963Z"
   },
   {
    "duration": 345,
    "start_time": "2021-07-04T22:43:34.776Z"
   },
   {
    "duration": 110,
    "start_time": "2021-07-04T22:43:43.769Z"
   },
   {
    "duration": 1898,
    "start_time": "2021-07-04T22:43:46.593Z"
   },
   {
    "duration": 115,
    "start_time": "2021-07-04T22:43:48.563Z"
   },
   {
    "duration": 5,
    "start_time": "2021-07-04T22:43:56.614Z"
   },
   {
    "duration": 75,
    "start_time": "2021-07-04T22:43:56.681Z"
   },
   {
    "duration": 19,
    "start_time": "2021-07-04T22:43:56.968Z"
   },
   {
    "duration": 10,
    "start_time": "2021-07-04T22:43:57.536Z"
   },
   {
    "duration": 13,
    "start_time": "2021-07-04T22:43:57.839Z"
   },
   {
    "duration": 160,
    "start_time": "2021-07-04T22:43:58.559Z"
   },
   {
    "duration": 24,
    "start_time": "2021-07-04T22:44:00.359Z"
   },
   {
    "duration": 525,
    "start_time": "2021-07-04T22:44:00.605Z"
   },
   {
    "duration": 537,
    "start_time": "2021-07-04T22:44:01.134Z"
   },
   {
    "duration": 543,
    "start_time": "2021-07-04T22:44:02.060Z"
   },
   {
    "duration": 559,
    "start_time": "2021-07-04T22:44:02.607Z"
   },
   {
    "duration": 569,
    "start_time": "2021-07-04T22:44:03.170Z"
   },
   {
    "duration": 548,
    "start_time": "2021-07-04T22:44:03.742Z"
   },
   {
    "duration": 547,
    "start_time": "2021-07-04T22:44:04.293Z"
   },
   {
    "duration": 558,
    "start_time": "2021-07-04T22:44:04.843Z"
   },
   {
    "duration": 644,
    "start_time": "2021-07-04T22:44:05.406Z"
   },
   {
    "duration": 546,
    "start_time": "2021-07-04T22:44:06.054Z"
   },
   {
    "duration": 559,
    "start_time": "2021-07-04T22:44:06.603Z"
   },
   {
    "duration": 701,
    "start_time": "2021-07-04T22:44:07.166Z"
   },
   {
    "duration": 554,
    "start_time": "2021-07-04T22:44:07.870Z"
   },
   {
    "duration": 573,
    "start_time": "2021-07-04T22:44:08.428Z"
   },
   {
    "duration": 564,
    "start_time": "2021-07-04T22:44:09.004Z"
   },
   {
    "duration": 653,
    "start_time": "2021-07-04T22:44:09.574Z"
   },
   {
    "duration": 379,
    "start_time": "2021-07-04T22:44:10.231Z"
   },
   {
    "duration": 396,
    "start_time": "2021-07-04T22:44:10.613Z"
   },
   {
    "duration": 972,
    "start_time": "2021-07-04T22:44:11.011Z"
   },
   {
    "duration": 39,
    "start_time": "2021-07-04T22:44:11.986Z"
   },
   {
    "duration": 20,
    "start_time": "2021-07-04T22:44:12.029Z"
   },
   {
    "duration": 4,
    "start_time": "2021-07-04T22:44:12.064Z"
   },
   {
    "duration": 14,
    "start_time": "2021-07-04T22:44:12.071Z"
   },
   {
    "duration": 24,
    "start_time": "2021-07-04T22:44:12.090Z"
   },
   {
    "duration": 82,
    "start_time": "2021-07-04T22:44:12.117Z"
   },
   {
    "duration": 63,
    "start_time": "2021-07-04T22:44:12.202Z"
   },
   {
    "duration": 176,
    "start_time": "2021-07-04T22:44:12.269Z"
   },
   {
    "duration": 27,
    "start_time": "2021-07-04T22:44:12.448Z"
   },
   {
    "duration": 18,
    "start_time": "2021-07-04T22:44:12.479Z"
   },
   {
    "duration": 9,
    "start_time": "2021-07-04T22:44:12.500Z"
   },
   {
    "duration": 18,
    "start_time": "2021-07-04T22:44:12.512Z"
   },
   {
    "duration": 37,
    "start_time": "2021-07-04T22:44:12.534Z"
   },
   {
    "duration": 8,
    "start_time": "2021-07-04T22:44:12.710Z"
   },
   {
    "duration": 812,
    "start_time": "2021-07-04T22:44:13.010Z"
   },
   {
    "duration": 139090,
    "start_time": "2021-07-04T22:44:13.824Z"
   },
   {
    "duration": 1462,
    "start_time": "2021-07-04T22:49:24.613Z"
   },
   {
    "duration": 127,
    "start_time": "2021-07-04T22:49:26.078Z"
   },
   {
    "duration": 39,
    "start_time": "2021-07-04T22:49:30.774Z"
   },
   {
    "duration": 548,
    "start_time": "2021-07-04T22:50:01.676Z"
   },
   {
    "duration": 4377,
    "start_time": "2021-07-04T22:50:10.246Z"
   },
   {
    "duration": 12588,
    "start_time": "2021-07-04T22:50:15.175Z"
   },
   {
    "duration": 4946,
    "start_time": "2021-07-04T22:50:40.651Z"
   },
   {
    "duration": 781,
    "start_time": "2021-07-04T22:51:10.086Z"
   },
   {
    "duration": 576,
    "start_time": "2021-07-04T22:52:03.624Z"
   },
   {
    "duration": 733,
    "start_time": "2021-07-04T22:52:18.434Z"
   },
   {
    "duration": 872,
    "start_time": "2021-07-04T22:52:30.706Z"
   },
   {
    "duration": 1226,
    "start_time": "2021-07-04T22:52:46.440Z"
   },
   {
    "duration": 26,
    "start_time": "2021-07-04T22:55:21.129Z"
   },
   {
    "duration": 13,
    "start_time": "2021-07-04T22:55:46.347Z"
   },
   {
    "duration": 31,
    "start_time": "2021-07-04T22:55:49.715Z"
   },
   {
    "duration": 327,
    "start_time": "2021-07-04T22:56:09.015Z"
   },
   {
    "duration": 108,
    "start_time": "2021-07-04T22:56:13.637Z"
   },
   {
    "duration": 380,
    "start_time": "2021-07-04T22:56:17.178Z"
   },
   {
    "duration": 1482,
    "start_time": "2021-07-05T08:55:52.641Z"
   },
   {
    "duration": 199,
    "start_time": "2021-07-05T08:55:54.126Z"
   },
   {
    "duration": 21,
    "start_time": "2021-07-05T08:55:54.328Z"
   },
   {
    "duration": 13,
    "start_time": "2021-07-05T08:55:54.351Z"
   },
   {
    "duration": 12,
    "start_time": "2021-07-05T08:55:55.000Z"
   },
   {
    "duration": 69,
    "start_time": "2021-07-05T08:55:55.535Z"
   },
   {
    "duration": 24,
    "start_time": "2021-07-05T08:55:56.972Z"
   },
   {
    "duration": 342,
    "start_time": "2021-07-05T08:55:57.374Z"
   },
   {
    "duration": 351,
    "start_time": "2021-07-05T08:55:57.719Z"
   },
   {
    "duration": 354,
    "start_time": "2021-07-05T08:55:58.073Z"
   },
   {
    "duration": 352,
    "start_time": "2021-07-05T08:55:58.431Z"
   },
   {
    "duration": 370,
    "start_time": "2021-07-05T08:55:58.786Z"
   },
   {
    "duration": 336,
    "start_time": "2021-07-05T08:55:59.616Z"
   },
   {
    "duration": 349,
    "start_time": "2021-07-05T08:56:00.010Z"
   },
   {
    "duration": 444,
    "start_time": "2021-07-05T08:56:00.362Z"
   },
   {
    "duration": 347,
    "start_time": "2021-07-05T08:56:00.809Z"
   },
   {
    "duration": 363,
    "start_time": "2021-07-05T08:56:01.158Z"
   },
   {
    "duration": 368,
    "start_time": "2021-07-05T08:56:01.524Z"
   },
   {
    "duration": 531,
    "start_time": "2021-07-05T08:56:01.894Z"
   },
   {
    "duration": 355,
    "start_time": "2021-07-05T08:56:02.428Z"
   },
   {
    "duration": 372,
    "start_time": "2021-07-05T08:56:02.787Z"
   },
   {
    "duration": 371,
    "start_time": "2021-07-05T08:56:03.162Z"
   },
   {
    "duration": 361,
    "start_time": "2021-07-05T08:56:03.537Z"
   },
   {
    "duration": 362,
    "start_time": "2021-07-05T08:56:03.901Z"
   },
   {
    "duration": 384,
    "start_time": "2021-07-05T08:56:04.266Z"
   },
   {
    "duration": 690,
    "start_time": "2021-07-05T08:56:04.759Z"
   },
   {
    "duration": 25,
    "start_time": "2021-07-05T08:56:05.452Z"
   },
   {
    "duration": 5,
    "start_time": "2021-07-05T08:56:05.673Z"
   },
   {
    "duration": 43,
    "start_time": "2021-07-05T08:56:07.405Z"
   },
   {
    "duration": 6,
    "start_time": "2021-07-05T08:56:07.725Z"
   },
   {
    "duration": 10,
    "start_time": "2021-07-05T08:56:08.701Z"
   },
   {
    "duration": 73,
    "start_time": "2021-07-05T08:56:08.878Z"
   },
   {
    "duration": 5,
    "start_time": "2021-07-05T08:56:09.084Z"
   },
   {
    "duration": 77,
    "start_time": "2021-07-05T08:56:09.744Z"
   },
   {
    "duration": 9,
    "start_time": "2021-07-05T08:56:10.635Z"
   },
   {
    "duration": 6,
    "start_time": "2021-07-05T08:56:10.874Z"
   },
   {
    "duration": 10,
    "start_time": "2021-07-05T08:56:11.226Z"
   },
   {
    "duration": 11,
    "start_time": "2021-07-05T08:56:11.458Z"
   },
   {
    "duration": 13,
    "start_time": "2021-07-05T08:56:12.104Z"
   },
   {
    "duration": 9,
    "start_time": "2021-07-05T08:56:12.628Z"
   },
   {
    "duration": 771,
    "start_time": "2021-07-05T08:56:12.863Z"
   },
   {
    "duration": 141840,
    "start_time": "2021-07-05T08:56:13.637Z"
   },
   {
    "duration": 1892,
    "start_time": "2021-07-05T08:58:35.480Z"
   },
   {
    "duration": 10,
    "start_time": "2021-07-05T08:58:37.375Z"
   },
   {
    "duration": 22,
    "start_time": "2021-07-05T08:58:37.388Z"
   },
   {
    "duration": 283,
    "start_time": "2021-07-05T08:58:37.413Z"
   },
   {
    "duration": 1924,
    "start_time": "2021-07-05T08:58:58.581Z"
   },
   {
    "duration": 17,
    "start_time": "2021-07-05T08:59:57.412Z"
   },
   {
    "duration": 337,
    "start_time": "2021-07-05T09:06:35.095Z"
   },
   {
    "duration": 286,
    "start_time": "2021-07-05T09:09:26.788Z"
   },
   {
    "duration": 243,
    "start_time": "2021-07-05T09:09:34.221Z"
   },
   {
    "duration": 465,
    "start_time": "2021-07-05T09:09:42.767Z"
   },
   {
    "duration": 370,
    "start_time": "2021-07-05T09:11:23.273Z"
   },
   {
    "duration": 361,
    "start_time": "2021-07-05T09:12:45.974Z"
   },
   {
    "duration": 371,
    "start_time": "2021-07-05T09:12:54.119Z"
   },
   {
    "duration": 491,
    "start_time": "2021-07-05T09:15:32.465Z"
   },
   {
    "duration": 330,
    "start_time": "2021-07-05T09:16:36.807Z"
   },
   {
    "duration": 533,
    "start_time": "2021-07-05T09:17:58.761Z"
   },
   {
    "duration": 342,
    "start_time": "2021-07-05T09:19:16.365Z"
   },
   {
    "duration": 317,
    "start_time": "2021-07-05T09:20:40.865Z"
   },
   {
    "duration": 583,
    "start_time": "2021-07-05T09:21:27.176Z"
   },
   {
    "duration": 14561,
    "start_time": "2021-07-05T09:25:17.268Z"
   },
   {
    "duration": 603,
    "start_time": "2021-07-05T09:25:31.832Z"
   },
   {
    "duration": 167086,
    "start_time": "2021-07-05T09:35:25.321Z"
   },
   {
    "duration": 14065,
    "start_time": "2021-07-05T09:39:09.208Z"
   },
   {
    "duration": 319,
    "start_time": "2021-07-05T09:40:22.912Z"
   }
  ],
  "kernelspec": {
   "display_name": "Python 3",
   "language": "python",
   "name": "python3"
  },
  "language_info": {
   "codemirror_mode": {
    "name": "ipython",
    "version": 3
   },
   "file_extension": ".py",
   "mimetype": "text/x-python",
   "name": "python",
   "nbconvert_exporter": "python",
   "pygments_lexer": "ipython3",
   "version": "3.7.8"
  },
  "toc": {
   "base_numbering": 1,
   "nav_menu": {},
   "number_sections": true,
   "sideBar": true,
   "skip_h1_title": true,
   "title_cell": "Table of Contents",
   "title_sidebar": "Contents",
   "toc_cell": false,
   "toc_position": {},
   "toc_section_display": true,
   "toc_window_display": false
  }
 },
 "nbformat": 4,
 "nbformat_minor": 2
}
